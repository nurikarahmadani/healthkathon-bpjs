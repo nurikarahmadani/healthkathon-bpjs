{
  "cells": [
    {
      "cell_type": "markdown",
      "metadata": {
        "id": "view-in-github",
        "colab_type": "text"
      },
      "source": [
        "<a href=\"https://colab.research.google.com/github/nurikarahmadani/healthkathon-bpjs/blob/main/sehathon.ipynb\" target=\"_parent\"><img src=\"https://colab.research.google.com/assets/colab-badge.svg\" alt=\"Open In Colab\"/></a>"
      ]
    },
    {
      "cell_type": "code",
      "execution_count": 1,
      "metadata": {
        "colab": {
          "base_uri": "https://localhost:8080/"
        },
        "id": "3hQNqFF88WnQ",
        "outputId": "c501db76-dbe6-4896-caba-8ce92b2444bc"
      },
      "outputs": [
        {
          "output_type": "stream",
          "name": "stdout",
          "text": [
            "Looking in indexes: https://pypi.org/simple, https://us-python.pkg.dev/colab-wheels/public/simple/\n",
            "Collecting range_key_dict\n",
            "  Downloading range_key_dict-1.1.0-py2.py3-none-any.whl (3.3 kB)\n",
            "Installing collected packages: range-key-dict\n",
            "Successfully installed range-key-dict-1.1.0\n",
            "Looking in indexes: https://pypi.org/simple, https://us-python.pkg.dev/colab-wheels/public/simple/\n",
            "Requirement already satisfied: imbalanced-learn in /usr/local/lib/python3.7/dist-packages (0.8.1)\n",
            "Collecting imbalanced-learn\n",
            "  Downloading imbalanced_learn-0.9.1-py3-none-any.whl (199 kB)\n",
            "\u001b[K     |████████████████████████████████| 199 kB 4.8 MB/s \n",
            "\u001b[?25hRequirement already satisfied: joblib>=1.0.0 in /usr/local/lib/python3.7/dist-packages (from imbalanced-learn) (1.2.0)\n",
            "Requirement already satisfied: numpy>=1.17.3 in /usr/local/lib/python3.7/dist-packages (from imbalanced-learn) (1.21.6)\n",
            "Requirement already satisfied: threadpoolctl>=2.0.0 in /usr/local/lib/python3.7/dist-packages (from imbalanced-learn) (3.1.0)\n",
            "  Downloading imbalanced_learn-0.9.0-py3-none-any.whl (199 kB)\n",
            "\u001b[K     |████████████████████████████████| 199 kB 58.9 MB/s \n",
            "\u001b[?25hRequirement already satisfied: scipy>=1.1.0 in /usr/local/lib/python3.7/dist-packages (from imbalanced-learn) (1.7.3)\n",
            "Requirement already satisfied: scikit-learn>=1.0.1 in /usr/local/lib/python3.7/dist-packages (from imbalanced-learn) (1.0.2)\n",
            "Installing collected packages: imbalanced-learn\n",
            "  Attempting uninstall: imbalanced-learn\n",
            "    Found existing installation: imbalanced-learn 0.8.1\n",
            "    Uninstalling imbalanced-learn-0.8.1:\n",
            "      Successfully uninstalled imbalanced-learn-0.8.1\n",
            "Successfully installed imbalanced-learn-0.9.0\n",
            "Looking in indexes: https://pypi.org/simple, https://us-python.pkg.dev/colab-wheels/public/simple/\n",
            "\u001b[31mERROR: Could not find a version that satisfies the requirement scikit-learn==1.1.0 (from versions: 0.9, 0.10, 0.11, 0.12, 0.12.1, 0.13, 0.13.1, 0.14, 0.14.1, 0.15.0b1, 0.15.0b2, 0.15.0, 0.15.1, 0.15.2, 0.16b1, 0.16.0, 0.16.1, 0.17b1, 0.17, 0.17.1, 0.18, 0.18.1, 0.18.2, 0.19b2, 0.19.0, 0.19.1, 0.19.2, 0.20rc1, 0.20.0, 0.20.1, 0.20.2, 0.20.3, 0.20.4, 0.21rc2, 0.21.0, 0.21.1, 0.21.2, 0.21.3, 0.22rc2.post1, 0.22rc3, 0.22, 0.22.1, 0.22.2, 0.22.2.post1, 0.23.0rc1, 0.23.0, 0.23.1, 0.23.2, 0.24.dev0, 0.24.0rc1, 0.24.0, 0.24.1, 0.24.2, 1.0rc1, 1.0rc2, 1.0, 1.0.1, 1.0.2)\u001b[0m\n",
            "\u001b[31mERROR: No matching distribution found for scikit-learn==1.1.0\u001b[0m\n"
          ]
        }
      ],
      "source": [
        "!pip install range_key_dict\n",
        "!pip install -U imbalanced-learn\n",
        "!pip install scikit-learn==1.1.0"
      ]
    },
    {
      "cell_type": "code",
      "execution_count": 2,
      "metadata": {
        "colab": {
          "base_uri": "https://localhost:8080/"
        },
        "id": "_xCszYnB8qV0",
        "outputId": "b5122aaf-6aae-4503-9c17-330649aa706e"
      },
      "outputs": [
        {
          "output_type": "stream",
          "name": "stdout",
          "text": [
            "Mounted at /content/drive\n"
          ]
        }
      ],
      "source": [
        "from google.colab import drive\n",
        "drive.mount('/content/drive')"
      ]
    },
    {
      "cell_type": "code",
      "execution_count": 3,
      "metadata": {
        "id": "dW8heCXH8WnU"
      },
      "outputs": [],
      "source": [
        "from sklearn.preprocessing import LabelEncoder\n",
        "from sklearn.preprocessing import MinMaxScaler\n",
        "from sklearn.metrics import confusion_matrix\n",
        "\n",
        "import pandas as pd\n",
        "import numpy as np\n",
        "import matplotlib.pyplot as plt"
      ]
    },
    {
      "cell_type": "code",
      "execution_count": 4,
      "metadata": {
        "id": "HpmtTet48WnV"
      },
      "outputs": [],
      "source": [
        "# Data Collection\n",
        "\n",
        "df_bpjs = pd.read_csv('/content/drive/MyDrive/sampling_healtkathon2022.csv')\n",
        "df_diagnose = pd.read_csv('/content/drive/MyDrive/Salinan sampling_healthkathon2022_diagnosa.csv')  \n",
        "df_procedure = pd.read_csv('/content/drive/MyDrive/sampling_healthkathon2022_procedure.csv')\n",
        "# df_predict = pd.read_csv('/content/drive/MyDrive/Salinan merged1.csv')\n"
      ]
    },
    {
      "cell_type": "code",
      "execution_count": 5,
      "metadata": {
        "id": "qYBcWTyuoRFK"
      },
      "outputs": [],
      "source": [
        "# df_bpjs_tot = df_bpjs"
      ]
    },
    {
      "cell_type": "markdown",
      "metadata": {
        "collapsed": false,
        "id": "U9XdUXjL8WnV"
      },
      "source": [
        "## Data Prep (Check Data Quality)\n",
        "\n",
        "1.  Check duplicate"
      ]
    },
    {
      "cell_type": "code",
      "execution_count": 6,
      "metadata": {
        "colab": {
          "base_uri": "https://localhost:8080/"
        },
        "id": "Doz3LmiB8WnX",
        "outputId": "62db844c-0073-4aae-c854-50e4370be15d"
      },
      "outputs": [
        {
          "output_type": "execute_result",
          "data": {
            "text/plain": [
              "3966586     4\n",
              "8603080     2\n",
              "3481090     2\n",
              "10749999    2\n",
              "11146119    2\n",
              "           ..\n",
              "984996      1\n",
              "8658768     1\n",
              "6481061     1\n",
              "6109477     1\n",
              "102794      1\n",
              "Name: id, Length: 11401868, dtype: int64"
            ]
          },
          "metadata": {},
          "execution_count": 6
        }
      ],
      "source": [
        "df_bpjs[\"id\"].value_counts()"
      ]
    },
    {
      "cell_type": "code",
      "execution_count": 7,
      "metadata": {
        "colab": {
          "base_uri": "https://localhost:8080/"
        },
        "id": "PaPeON0Q8WnY",
        "outputId": "98309fe5-c838-47ef-de3e-7d9f795f467c"
      },
      "outputs": [
        {
          "output_type": "execute_result",
          "data": {
            "text/plain": [
              "(11401882, 22)"
            ]
          },
          "metadata": {},
          "execution_count": 7
        }
      ],
      "source": [
        "df_bpjs.shape"
      ]
    },
    {
      "cell_type": "code",
      "execution_count": 8,
      "metadata": {
        "colab": {
          "base_uri": "https://localhost:8080/"
        },
        "id": "s53NVEZo8WnZ",
        "outputId": "675a6376-1591-4098-d76d-0d01407c12de"
      },
      "outputs": [
        {
          "output_type": "execute_result",
          "data": {
            "text/plain": [
              "id        proc \n",
              "3966586   67.61    4\n",
              "          99.04    4\n",
              "          86.22    4\n",
              "10749999  99.18    2\n",
              "10608307  93.96    2\n",
              "                  ..\n",
              "4554211   99.18    1\n",
              "4554212   39.95    1\n",
              "4554213   90.59    1\n",
              "4554215   90.59    1\n",
              "11426953  23.09    1\n",
              "Length: 12202824, dtype: int64"
            ]
          },
          "metadata": {},
          "execution_count": 8
        }
      ],
      "source": [
        "df_procedure.value_counts()"
      ]
    },
    {
      "cell_type": "code",
      "execution_count": 9,
      "metadata": {
        "colab": {
          "base_uri": "https://localhost:8080/"
        },
        "id": "23tJBxWm8WnZ",
        "outputId": "e35e6525-9059-4a34-ac73-dcea909228de"
      },
      "outputs": [
        {
          "output_type": "execute_result",
          "data": {
            "text/plain": [
              "(12202871, 2)"
            ]
          },
          "metadata": {},
          "execution_count": 9
        }
      ],
      "source": [
        "df_procedure.shape"
      ]
    },
    {
      "cell_type": "code",
      "execution_count": 10,
      "metadata": {
        "colab": {
          "base_uri": "https://localhost:8080/"
        },
        "id": "oxIevY3X8Wna",
        "outputId": "70ff31f7-d594-4285-d07b-f527e894d91d"
      },
      "outputs": [
        {
          "output_type": "execute_result",
          "data": {
            "text/plain": [
              "id        diag   levelid\n",
              "4020415   T81.3  2          4\n",
              "          O82.9  1          4\n",
              "3966586   D64.9  2          4\n",
              "          T81.3  1          4\n",
              "4020415   O99.0  2          4\n",
              "                           ..\n",
              "3976361   L01.0  1          1\n",
              "3976362   S09.8  1          1\n",
              "3976363   J45.9  1          1\n",
              "3976364   J06.9  2          1\n",
              "11426957  R10.0  1          1\n",
              "Length: 17308480, dtype: int64"
            ]
          },
          "metadata": {},
          "execution_count": 10
        }
      ],
      "source": [
        "df_diagnose.value_counts()"
      ]
    },
    {
      "cell_type": "code",
      "execution_count": 11,
      "metadata": {
        "colab": {
          "base_uri": "https://localhost:8080/"
        },
        "id": "_5aA95Ec8Wna",
        "outputId": "0a95602b-5bd9-411e-9241-37950e0e10d4"
      },
      "outputs": [
        {
          "output_type": "execute_result",
          "data": {
            "text/plain": [
              "(17308536, 3)"
            ]
          },
          "metadata": {},
          "execution_count": 11
        }
      ],
      "source": [
        "df_diagnose.shape"
      ]
    },
    {
      "cell_type": "code",
      "execution_count": 12,
      "metadata": {
        "id": "m1r21L-H8Wnb"
      },
      "outputs": [],
      "source": [
        "df_bpjs_dupe = df_bpjs.drop_duplicates()\n",
        "df_procedure_dupe = df_procedure.drop_duplicates()\n",
        "df_diagnose_dupe = df_diagnose.drop_duplicates()"
      ]
    },
    {
      "cell_type": "code",
      "execution_count": 13,
      "metadata": {
        "colab": {
          "base_uri": "https://localhost:8080/"
        },
        "id": "-E9mN2Lf8Wnb",
        "outputId": "1b2d2d72-9ccf-47c3-a28e-a66789d349e6"
      },
      "outputs": [
        {
          "output_type": "stream",
          "name": "stdout",
          "text": [
            "(11401868, 22)\n",
            "(12202824, 2)\n",
            "(17308480, 3)\n"
          ]
        }
      ],
      "source": [
        "print(df_bpjs_dupe.shape)\n",
        "print(df_procedure_dupe.shape)\n",
        "print(df_diagnose_dupe.shape)"
      ]
    },
    {
      "cell_type": "markdown",
      "metadata": {
        "collapsed": false,
        "id": "txhUh6t38Wnc"
      },
      "source": [
        "- The code is imbalanced (11244993:156889)"
      ]
    },
    {
      "cell_type": "code",
      "execution_count": 14,
      "metadata": {
        "colab": {
          "base_uri": "https://localhost:8080/"
        },
        "id": "SRN54gLc8Wnc",
        "outputId": "f1c42cb0-2548-4a2e-e17b-67b23a721347"
      },
      "outputs": [
        {
          "output_type": "stream",
          "name": "stdout",
          "text": [
            "<class 'pandas.core.frame.DataFrame'>\n",
            "Int64Index: 11401868 entries, 0 to 11401881\n",
            "Data columns (total 22 columns):\n",
            " #   Column       Non-Null Count     Dtype  \n",
            "---  ------       --------------     -----  \n",
            " 0   id           11401868 non-null  int64  \n",
            " 1   id_peserta   11401868 non-null  int64  \n",
            " 2   dati2        11401868 non-null  int64  \n",
            " 3   typefaskes   11401868 non-null  object \n",
            " 4   usia         11401868 non-null  int64  \n",
            " 5   jenkel       11401819 non-null  object \n",
            " 6   pisat        11401678 non-null  float64\n",
            " 7   tgldatang    11401868 non-null  object \n",
            " 8   tglpulang    11401868 non-null  object \n",
            " 9   jenispel     11401868 non-null  int64  \n",
            " 10  politujuan   7360424 non-null   object \n",
            " 11  diagfktp     11399338 non-null  object \n",
            " 12  biaya        11344053 non-null  float64\n",
            " 13  jenispulang  11401829 non-null  float64\n",
            " 14  cbg          11401868 non-null  object \n",
            " 15  kelasrawat   11401868 non-null  int64  \n",
            " 16  kdsa         11203198 non-null  object \n",
            " 17  kdsp         11204861 non-null  object \n",
            " 18  kdsr         11203409 non-null  object \n",
            " 19  kdsi         11203405 non-null  object \n",
            " 20  kdsd         11206687 non-null  object \n",
            " 21  label        11401868 non-null  int64  \n",
            "dtypes: float64(3), int64(7), object(12)\n",
            "memory usage: 2.0+ GB\n"
          ]
        }
      ],
      "source": [
        "df_bpjs_dupe.info(verbose=True, show_counts=True)"
      ]
    },
    {
      "cell_type": "code",
      "execution_count": 15,
      "metadata": {
        "colab": {
          "base_uri": "https://localhost:8080/",
          "height": 300
        },
        "id": "rK1ShTbc8Wnd",
        "outputId": "d19b3b0e-debc-4a56-e82a-ed5e11d59572"
      },
      "outputs": [
        {
          "output_type": "execute_result",
          "data": {
            "text/plain": [
              "                 id    id_peserta         dati2          usia         pisat  \\\n",
              "count  1.140187e+07  1.140187e+07  1.140187e+07  1.140187e+07  1.140168e+07   \n",
              "mean   5.712718e+06  4.199294e+06  1.825299e+02  3.705690e+01  2.498204e+00   \n",
              "std    3.298534e+06  2.436249e+06  1.061352e+02  2.292188e+01  1.390863e+00   \n",
              "min    1.000000e+00  1.000000e+00  1.000000e+00  0.000000e+00  1.000000e+00   \n",
              "25%    2.855429e+06  2.119460e+06  1.140000e+02  1.800000e+01  1.000000e+00   \n",
              "50%    5.712226e+06  4.161532e+06  1.590000e+02  3.900000e+01  3.000000e+00   \n",
              "75%    8.568898e+06  6.292148e+06  2.280000e+02  5.600000e+01  4.000000e+00   \n",
              "max    1.142696e+07  8.527919e+06  5.280000e+02  1.100000e+02  5.000000e+00   \n",
              "\n",
              "           jenispel         biaya   jenispulang    kelasrawat         label  \n",
              "count  1.140187e+07  1.134405e+07  1.140183e+07  1.140187e+07  1.140187e+07  \n",
              "mean   1.645544e+00  2.146843e+06  1.094596e+00  2.784696e+00  1.375950e-02  \n",
              "std    4.783481e-01  5.207570e+06  5.131554e-01  5.511468e-01  1.164911e-01  \n",
              "min    1.000000e+00  0.000000e+00  1.000000e+00  1.000000e+00  0.000000e+00  \n",
              "25%    1.000000e+00  1.904000e+05  1.000000e+00  3.000000e+00  0.000000e+00  \n",
              "50%    2.000000e+00  2.872000e+05  1.000000e+00  3.000000e+00  0.000000e+00  \n",
              "75%    2.000000e+00  2.996000e+06  1.000000e+00  3.000000e+00  0.000000e+00  \n",
              "max    2.000000e+00  4.016966e+08  5.000000e+00  3.000000e+00  1.000000e+00  "
            ],
            "text/html": [
              "\n",
              "  <div id=\"df-405bd7e9-adba-433a-b59a-3e6e547d15a2\">\n",
              "    <div class=\"colab-df-container\">\n",
              "      <div>\n",
              "<style scoped>\n",
              "    .dataframe tbody tr th:only-of-type {\n",
              "        vertical-align: middle;\n",
              "    }\n",
              "\n",
              "    .dataframe tbody tr th {\n",
              "        vertical-align: top;\n",
              "    }\n",
              "\n",
              "    .dataframe thead th {\n",
              "        text-align: right;\n",
              "    }\n",
              "</style>\n",
              "<table border=\"1\" class=\"dataframe\">\n",
              "  <thead>\n",
              "    <tr style=\"text-align: right;\">\n",
              "      <th></th>\n",
              "      <th>id</th>\n",
              "      <th>id_peserta</th>\n",
              "      <th>dati2</th>\n",
              "      <th>usia</th>\n",
              "      <th>pisat</th>\n",
              "      <th>jenispel</th>\n",
              "      <th>biaya</th>\n",
              "      <th>jenispulang</th>\n",
              "      <th>kelasrawat</th>\n",
              "      <th>label</th>\n",
              "    </tr>\n",
              "  </thead>\n",
              "  <tbody>\n",
              "    <tr>\n",
              "      <th>count</th>\n",
              "      <td>1.140187e+07</td>\n",
              "      <td>1.140187e+07</td>\n",
              "      <td>1.140187e+07</td>\n",
              "      <td>1.140187e+07</td>\n",
              "      <td>1.140168e+07</td>\n",
              "      <td>1.140187e+07</td>\n",
              "      <td>1.134405e+07</td>\n",
              "      <td>1.140183e+07</td>\n",
              "      <td>1.140187e+07</td>\n",
              "      <td>1.140187e+07</td>\n",
              "    </tr>\n",
              "    <tr>\n",
              "      <th>mean</th>\n",
              "      <td>5.712718e+06</td>\n",
              "      <td>4.199294e+06</td>\n",
              "      <td>1.825299e+02</td>\n",
              "      <td>3.705690e+01</td>\n",
              "      <td>2.498204e+00</td>\n",
              "      <td>1.645544e+00</td>\n",
              "      <td>2.146843e+06</td>\n",
              "      <td>1.094596e+00</td>\n",
              "      <td>2.784696e+00</td>\n",
              "      <td>1.375950e-02</td>\n",
              "    </tr>\n",
              "    <tr>\n",
              "      <th>std</th>\n",
              "      <td>3.298534e+06</td>\n",
              "      <td>2.436249e+06</td>\n",
              "      <td>1.061352e+02</td>\n",
              "      <td>2.292188e+01</td>\n",
              "      <td>1.390863e+00</td>\n",
              "      <td>4.783481e-01</td>\n",
              "      <td>5.207570e+06</td>\n",
              "      <td>5.131554e-01</td>\n",
              "      <td>5.511468e-01</td>\n",
              "      <td>1.164911e-01</td>\n",
              "    </tr>\n",
              "    <tr>\n",
              "      <th>min</th>\n",
              "      <td>1.000000e+00</td>\n",
              "      <td>1.000000e+00</td>\n",
              "      <td>1.000000e+00</td>\n",
              "      <td>0.000000e+00</td>\n",
              "      <td>1.000000e+00</td>\n",
              "      <td>1.000000e+00</td>\n",
              "      <td>0.000000e+00</td>\n",
              "      <td>1.000000e+00</td>\n",
              "      <td>1.000000e+00</td>\n",
              "      <td>0.000000e+00</td>\n",
              "    </tr>\n",
              "    <tr>\n",
              "      <th>25%</th>\n",
              "      <td>2.855429e+06</td>\n",
              "      <td>2.119460e+06</td>\n",
              "      <td>1.140000e+02</td>\n",
              "      <td>1.800000e+01</td>\n",
              "      <td>1.000000e+00</td>\n",
              "      <td>1.000000e+00</td>\n",
              "      <td>1.904000e+05</td>\n",
              "      <td>1.000000e+00</td>\n",
              "      <td>3.000000e+00</td>\n",
              "      <td>0.000000e+00</td>\n",
              "    </tr>\n",
              "    <tr>\n",
              "      <th>50%</th>\n",
              "      <td>5.712226e+06</td>\n",
              "      <td>4.161532e+06</td>\n",
              "      <td>1.590000e+02</td>\n",
              "      <td>3.900000e+01</td>\n",
              "      <td>3.000000e+00</td>\n",
              "      <td>2.000000e+00</td>\n",
              "      <td>2.872000e+05</td>\n",
              "      <td>1.000000e+00</td>\n",
              "      <td>3.000000e+00</td>\n",
              "      <td>0.000000e+00</td>\n",
              "    </tr>\n",
              "    <tr>\n",
              "      <th>75%</th>\n",
              "      <td>8.568898e+06</td>\n",
              "      <td>6.292148e+06</td>\n",
              "      <td>2.280000e+02</td>\n",
              "      <td>5.600000e+01</td>\n",
              "      <td>4.000000e+00</td>\n",
              "      <td>2.000000e+00</td>\n",
              "      <td>2.996000e+06</td>\n",
              "      <td>1.000000e+00</td>\n",
              "      <td>3.000000e+00</td>\n",
              "      <td>0.000000e+00</td>\n",
              "    </tr>\n",
              "    <tr>\n",
              "      <th>max</th>\n",
              "      <td>1.142696e+07</td>\n",
              "      <td>8.527919e+06</td>\n",
              "      <td>5.280000e+02</td>\n",
              "      <td>1.100000e+02</td>\n",
              "      <td>5.000000e+00</td>\n",
              "      <td>2.000000e+00</td>\n",
              "      <td>4.016966e+08</td>\n",
              "      <td>5.000000e+00</td>\n",
              "      <td>3.000000e+00</td>\n",
              "      <td>1.000000e+00</td>\n",
              "    </tr>\n",
              "  </tbody>\n",
              "</table>\n",
              "</div>\n",
              "      <button class=\"colab-df-convert\" onclick=\"convertToInteractive('df-405bd7e9-adba-433a-b59a-3e6e547d15a2')\"\n",
              "              title=\"Convert this dataframe to an interactive table.\"\n",
              "              style=\"display:none;\">\n",
              "        \n",
              "  <svg xmlns=\"http://www.w3.org/2000/svg\" height=\"24px\"viewBox=\"0 0 24 24\"\n",
              "       width=\"24px\">\n",
              "    <path d=\"M0 0h24v24H0V0z\" fill=\"none\"/>\n",
              "    <path d=\"M18.56 5.44l.94 2.06.94-2.06 2.06-.94-2.06-.94-.94-2.06-.94 2.06-2.06.94zm-11 1L8.5 8.5l.94-2.06 2.06-.94-2.06-.94L8.5 2.5l-.94 2.06-2.06.94zm10 10l.94 2.06.94-2.06 2.06-.94-2.06-.94-.94-2.06-.94 2.06-2.06.94z\"/><path d=\"M17.41 7.96l-1.37-1.37c-.4-.4-.92-.59-1.43-.59-.52 0-1.04.2-1.43.59L10.3 9.45l-7.72 7.72c-.78.78-.78 2.05 0 2.83L4 21.41c.39.39.9.59 1.41.59.51 0 1.02-.2 1.41-.59l7.78-7.78 2.81-2.81c.8-.78.8-2.07 0-2.86zM5.41 20L4 18.59l7.72-7.72 1.47 1.35L5.41 20z\"/>\n",
              "  </svg>\n",
              "      </button>\n",
              "      \n",
              "  <style>\n",
              "    .colab-df-container {\n",
              "      display:flex;\n",
              "      flex-wrap:wrap;\n",
              "      gap: 12px;\n",
              "    }\n",
              "\n",
              "    .colab-df-convert {\n",
              "      background-color: #E8F0FE;\n",
              "      border: none;\n",
              "      border-radius: 50%;\n",
              "      cursor: pointer;\n",
              "      display: none;\n",
              "      fill: #1967D2;\n",
              "      height: 32px;\n",
              "      padding: 0 0 0 0;\n",
              "      width: 32px;\n",
              "    }\n",
              "\n",
              "    .colab-df-convert:hover {\n",
              "      background-color: #E2EBFA;\n",
              "      box-shadow: 0px 1px 2px rgba(60, 64, 67, 0.3), 0px 1px 3px 1px rgba(60, 64, 67, 0.15);\n",
              "      fill: #174EA6;\n",
              "    }\n",
              "\n",
              "    [theme=dark] .colab-df-convert {\n",
              "      background-color: #3B4455;\n",
              "      fill: #D2E3FC;\n",
              "    }\n",
              "\n",
              "    [theme=dark] .colab-df-convert:hover {\n",
              "      background-color: #434B5C;\n",
              "      box-shadow: 0px 1px 3px 1px rgba(0, 0, 0, 0.15);\n",
              "      filter: drop-shadow(0px 1px 2px rgba(0, 0, 0, 0.3));\n",
              "      fill: #FFFFFF;\n",
              "    }\n",
              "  </style>\n",
              "\n",
              "      <script>\n",
              "        const buttonEl =\n",
              "          document.querySelector('#df-405bd7e9-adba-433a-b59a-3e6e547d15a2 button.colab-df-convert');\n",
              "        buttonEl.style.display =\n",
              "          google.colab.kernel.accessAllowed ? 'block' : 'none';\n",
              "\n",
              "        async function convertToInteractive(key) {\n",
              "          const element = document.querySelector('#df-405bd7e9-adba-433a-b59a-3e6e547d15a2');\n",
              "          const dataTable =\n",
              "            await google.colab.kernel.invokeFunction('convertToInteractive',\n",
              "                                                     [key], {});\n",
              "          if (!dataTable) return;\n",
              "\n",
              "          const docLinkHtml = 'Like what you see? Visit the ' +\n",
              "            '<a target=\"_blank\" href=https://colab.research.google.com/notebooks/data_table.ipynb>data table notebook</a>'\n",
              "            + ' to learn more about interactive tables.';\n",
              "          element.innerHTML = '';\n",
              "          dataTable['output_type'] = 'display_data';\n",
              "          await google.colab.output.renderOutput(dataTable, element);\n",
              "          const docLink = document.createElement('div');\n",
              "          docLink.innerHTML = docLinkHtml;\n",
              "          element.appendChild(docLink);\n",
              "        }\n",
              "      </script>\n",
              "    </div>\n",
              "  </div>\n",
              "  "
            ]
          },
          "metadata": {},
          "execution_count": 15
        }
      ],
      "source": [
        "df_bpjs_dupe.describe()"
      ]
    },
    {
      "cell_type": "code",
      "execution_count": 16,
      "metadata": {
        "colab": {
          "base_uri": "https://localhost:8080/"
        },
        "id": "ZX5sbOfY8Wnd",
        "outputId": "623d6285-f4e2-4be6-cbb7-c4d7aed92258"
      },
      "outputs": [
        {
          "output_type": "execute_result",
          "data": {
            "text/plain": [
              "id                   0\n",
              "id_peserta           0\n",
              "dati2                0\n",
              "typefaskes           0\n",
              "usia                 0\n",
              "jenkel              49\n",
              "pisat              190\n",
              "tgldatang            0\n",
              "tglpulang            0\n",
              "jenispel             0\n",
              "politujuan     4041444\n",
              "diagfktp          2530\n",
              "biaya            57815\n",
              "jenispulang         39\n",
              "cbg                  0\n",
              "kelasrawat           0\n",
              "kdsa            198670\n",
              "kdsp            197007\n",
              "kdsr            198459\n",
              "kdsi            198463\n",
              "kdsd            195181\n",
              "label                0\n",
              "dtype: int64"
            ]
          },
          "metadata": {},
          "execution_count": 16
        }
      ],
      "source": [
        "df_bpjs_dupe.isnull().sum()"
      ]
    },
    {
      "cell_type": "markdown",
      "metadata": {
        "collapsed": false,
        "id": "_NxXd4a28Wnd"
      },
      "source": [
        "<img src=\"./img/header_dataset.png\" width=\"1400\">"
      ]
    },
    {
      "cell_type": "markdown",
      "metadata": {
        "collapsed": false,
        "id": "x_MUlZOv8Wne"
      },
      "source": []
    },
    {
      "cell_type": "markdown",
      "metadata": {
        "collapsed": false,
        "id": "HJ59U-Er8Wne"
      },
      "source": [
        "## 2. Drop Unnecessary Data and Columns"
      ]
    },
    {
      "cell_type": "code",
      "execution_count": 17,
      "metadata": {
        "id": "wl-ZVaCY8Wne"
      },
      "outputs": [],
      "source": [
        "df_bpjs_notnull = df_bpjs_dupe.dropna(thresh=17)"
      ]
    },
    {
      "cell_type": "code",
      "execution_count": 18,
      "metadata": {
        "colab": {
          "base_uri": "https://localhost:8080/"
        },
        "id": "BFabaodT8Wnf",
        "outputId": "d64a7539-c217-4027-d9fb-5e92ac643770"
      },
      "outputs": [
        {
          "output_type": "stream",
          "name": "stdout",
          "text": [
            "<class 'pandas.core.frame.DataFrame'>\n",
            "Int64Index: 11401868 entries, 0 to 11401881\n",
            "Data columns (total 22 columns):\n",
            " #   Column       Non-Null Count     Dtype  \n",
            "---  ------       --------------     -----  \n",
            " 0   id           11401868 non-null  int64  \n",
            " 1   id_peserta   11401868 non-null  int64  \n",
            " 2   dati2        11401868 non-null  int64  \n",
            " 3   typefaskes   11401868 non-null  object \n",
            " 4   usia         11401868 non-null  int64  \n",
            " 5   jenkel       11401819 non-null  object \n",
            " 6   pisat        11401678 non-null  float64\n",
            " 7   tgldatang    11401868 non-null  object \n",
            " 8   tglpulang    11401868 non-null  object \n",
            " 9   jenispel     11401868 non-null  int64  \n",
            " 10  politujuan   7360424 non-null   object \n",
            " 11  diagfktp     11399338 non-null  object \n",
            " 12  biaya        11344053 non-null  float64\n",
            " 13  jenispulang  11401829 non-null  float64\n",
            " 14  cbg          11401868 non-null  object \n",
            " 15  kelasrawat   11401868 non-null  int64  \n",
            " 16  kdsa         11203198 non-null  object \n",
            " 17  kdsp         11204861 non-null  object \n",
            " 18  kdsr         11203409 non-null  object \n",
            " 19  kdsi         11203405 non-null  object \n",
            " 20  kdsd         11206687 non-null  object \n",
            " 21  label        11401868 non-null  int64  \n",
            "dtypes: float64(3), int64(7), object(12)\n",
            "memory usage: 2.0+ GB\n"
          ]
        }
      ],
      "source": [
        "df_bpjs_dupe.info(verbose=True, show_counts=True)"
      ]
    },
    {
      "cell_type": "code",
      "execution_count": 19,
      "metadata": {
        "colab": {
          "base_uri": "https://localhost:8080/"
        },
        "id": "DLm_Gc6z8Wnf",
        "outputId": "1038d115-e458-46af-e2dc-e9e7095eabae"
      },
      "outputs": [
        {
          "output_type": "stream",
          "name": "stderr",
          "text": [
            "/usr/local/lib/python3.7/dist-packages/pandas/core/indexing.py:1884: SettingWithCopyWarning: \n",
            "A value is trying to be set on a copy of a slice from a DataFrame.\n",
            "Try using .loc[row_indexer,col_indexer] = value instead\n",
            "\n",
            "See the caveats in the documentation: https://pandas.pydata.org/pandas-docs/stable/user_guide/indexing.html#returning-a-view-versus-a-copy\n",
            "  self._setitem_single_column(loc, val, pi)\n"
          ]
        }
      ],
      "source": [
        "# filling jenis kelamin dengan cara random L dan P\n",
        "from random import choice\n",
        "\n",
        "mask = df_bpjs_notnull[\"jenkel\"].isna()\n",
        "df_bpjs_notnull.loc[mask,[\"jenkel\"]] = df_bpjs_notnull.loc[mask,[\"jenkel\"]].applymap(lambda _: choice([\"L\",\"P\"]))"
      ]
    },
    {
      "cell_type": "code",
      "execution_count": 20,
      "metadata": {
        "colab": {
          "base_uri": "https://localhost:8080/"
        },
        "id": "vy5rmOZ28Wnf",
        "outputId": "d99d5f2b-5492-45a4-aede-92f22de33033"
      },
      "outputs": [
        {
          "output_type": "stream",
          "name": "stderr",
          "text": [
            "/usr/local/lib/python3.7/dist-packages/pandas/core/generic.py:6392: SettingWithCopyWarning: \n",
            "A value is trying to be set on a copy of a slice from a DataFrame\n",
            "\n",
            "See the caveats in the documentation: https://pandas.pydata.org/pandas-docs/stable/user_guide/indexing.html#returning-a-view-versus-a-copy\n",
            "  return self._update_inplace(result)\n"
          ]
        }
      ],
      "source": [
        "df_bpjs_notnull['pisat'].bfill(inplace=True)"
      ]
    },
    {
      "cell_type": "code",
      "execution_count": 21,
      "metadata": {
        "id": "VkQyOxz18Wng"
      },
      "outputs": [],
      "source": [
        "df_bpjs_notnull = df_bpjs_notnull[df_bpjs_notnull['politujuan'].notna()]"
      ]
    },
    {
      "cell_type": "code",
      "execution_count": 22,
      "metadata": {
        "id": "yuni99wI8Wng"
      },
      "outputs": [],
      "source": [
        "# buang politujuan yang null\n",
        "df_bpjs_notnull = df_bpjs_notnull[df_bpjs_notnull['politujuan'].notna()]\n"
      ]
    },
    {
      "cell_type": "code",
      "execution_count": 23,
      "metadata": {
        "id": "0fk13__n8Wng"
      },
      "outputs": [],
      "source": [
        "# buang diagfktp yang null\n",
        "df_bpjs_notnull = df_bpjs_notnull[df_bpjs_notnull['diagfktp'].notna()]"
      ]
    },
    {
      "cell_type": "code",
      "execution_count": 24,
      "metadata": {
        "id": "CxWduDyQ8Wnh"
      },
      "outputs": [],
      "source": [
        "# buang biaya yang null\n",
        "df_bpjs_notnull = df_bpjs_notnull[df_bpjs_notnull['biaya'].notna()]"
      ]
    },
    {
      "cell_type": "code",
      "execution_count": 25,
      "metadata": {
        "id": "JQRuQtsW8Wnh"
      },
      "outputs": [],
      "source": [
        "# buang jenispulang yang null\n",
        "df_bpjs_notnull = df_bpjs_notnull[df_bpjs_notnull['jenispulang'].notna()]"
      ]
    },
    {
      "cell_type": "code",
      "execution_count": 26,
      "metadata": {
        "id": "7oKZkIPS8Wnh"
      },
      "outputs": [],
      "source": [
        "df_bpjs_notnull[[\"kdsa\",\"kdsp\",\"kdsr\",\"kdsi\",\"kdsd\"]] = df_bpjs_notnull[[\"kdsa\",\"kdsp\",\"kdsr\",\"kdsi\",\"kdsd\"]].fillna(\"None\")"
      ]
    },
    {
      "cell_type": "markdown",
      "metadata": {
        "collapsed": false,
        "id": "D2KIsFa08Wni"
      },
      "source": [
        "## Merge dataset"
      ]
    },
    {
      "cell_type": "code",
      "execution_count": 27,
      "metadata": {
        "id": "0aYsLmR38Wni"
      },
      "outputs": [],
      "source": [
        "df_bpjs_clean = pd.merge(df_bpjs_notnull, df_diagnose_dupe, how=\"left\", on=[\"id\"])\n",
        "df_bpjs_clean = pd.merge(df_bpjs_clean, df_procedure_dupe, how=\"left\", on=[\"id\"])"
      ]
    },
    {
      "cell_type": "code",
      "execution_count": 28,
      "metadata": {
        "id": "cJqUgC288Wni"
      },
      "outputs": [],
      "source": [
        "# buang proc yang nilainya null\n",
        "df_bpjs_clean = df_bpjs_clean[df_bpjs_clean['proc'].notna()]"
      ]
    },
    {
      "cell_type": "code",
      "execution_count": 29,
      "metadata": {
        "id": "GaGgcJvT8Wnj"
      },
      "outputs": [],
      "source": [
        "df_bpjs_clean = df_bpjs_clean[~df_bpjs_clean['diag'].str[0].str.isdigit()]\n",
        "df_bpjs_clean = df_bpjs_clean[df_bpjs_clean['proc'].str[0].str.isdigit()]"
      ]
    },
    {
      "cell_type": "code",
      "execution_count": 30,
      "metadata": {
        "colab": {
          "base_uri": "https://localhost:8080/"
        },
        "id": "Dgfu_A6j8Wnj",
        "outputId": "1b92dfbf-ce1e-4583-9b6f-7a9f269eddd6"
      },
      "outputs": [
        {
          "output_type": "execute_result",
          "data": {
            "text/plain": [
              "1.0    2996128\n",
              "3.0    1467932\n",
              "4.0    1364367\n",
              "5.0     219069\n",
              "2.0     160578\n",
              "Name: pisat, dtype: int64"
            ]
          },
          "metadata": {},
          "execution_count": 30
        }
      ],
      "source": [
        "df_bpjs_clean[\"pisat\"].value_counts()"
      ]
    },
    {
      "cell_type": "markdown",
      "metadata": {
        "collapsed": false,
        "id": "1Gr9azSA8Wnj"
      },
      "source": [
        "## 3. Konversi obyek ke numerik"
      ]
    },
    {
      "cell_type": "code",
      "execution_count": 31,
      "metadata": {
        "colab": {
          "base_uri": "https://localhost:8080/"
        },
        "id": "8s7ZGYKe8Wnk",
        "outputId": "64ca4d22-900f-4f93-b639-dd6dc4c8cac3"
      },
      "outputs": [
        {
          "output_type": "stream",
          "name": "stdout",
          "text": [
            "<class 'pandas.core.frame.DataFrame'>\n",
            "Int64Index: 6208074 entries, 11 to 11242497\n",
            "Data columns (total 25 columns):\n",
            " #   Column       Dtype  \n",
            "---  ------       -----  \n",
            " 0   id           int64  \n",
            " 1   id_peserta   int64  \n",
            " 2   dati2        int64  \n",
            " 3   typefaskes   object \n",
            " 4   usia         int64  \n",
            " 5   jenkel       object \n",
            " 6   pisat        float64\n",
            " 7   tgldatang    object \n",
            " 8   tglpulang    object \n",
            " 9   jenispel     int64  \n",
            " 10  politujuan   object \n",
            " 11  diagfktp     object \n",
            " 12  biaya        float64\n",
            " 13  jenispulang  float64\n",
            " 14  cbg          object \n",
            " 15  kelasrawat   int64  \n",
            " 16  kdsa         object \n",
            " 17  kdsp         object \n",
            " 18  kdsr         object \n",
            " 19  kdsi         object \n",
            " 20  kdsd         object \n",
            " 21  label        int64  \n",
            " 22  diag         object \n",
            " 23  levelid      float64\n",
            " 24  proc         object \n",
            "dtypes: float64(4), int64(7), object(14)\n",
            "memory usage: 1.2+ GB\n"
          ]
        }
      ],
      "source": [
        "df_bpjs_clean.info()"
      ]
    },
    {
      "cell_type": "code",
      "execution_count": 32,
      "metadata": {
        "id": "5gxC0pWw8Wnk"
      },
      "outputs": [],
      "source": [
        "# labelencoder untuk kolom bertipe kategorikal\n",
        "labelencoder = LabelEncoder()\n",
        "df_bpjs_clean[\"typefaskes\"] = labelencoder.fit_transform(df_bpjs_clean[\"typefaskes\"])\n",
        "df_bpjs_clean[\"jenkel\"] = labelencoder.fit_transform(df_bpjs_clean[\"jenkel\"])\n",
        "df_bpjs_clean[\"politujuan\"] = labelencoder.fit_transform(df_bpjs_clean[\"politujuan\"])\n",
        "df_bpjs_clean[\"diagfktp\"] = labelencoder.fit_transform(df_bpjs_clean[\"diagfktp\"])\n",
        "df_bpjs_clean[\"cbg\"] = labelencoder.fit_transform(df_bpjs_clean[\"cbg\"])\n",
        "df_bpjs_clean[\"kdsa\"] = labelencoder.fit_transform(df_bpjs_clean[\"kdsa\"])\n",
        "df_bpjs_clean[\"kdsp\"] = labelencoder.fit_transform(df_bpjs_clean[\"kdsp\"])\n",
        "df_bpjs_clean[\"kdsr\"] = labelencoder.fit_transform(df_bpjs_clean[\"kdsr\"])\n",
        "df_bpjs_clean[\"kdsi\"] = labelencoder.fit_transform(df_bpjs_clean[\"kdsi\"])\n",
        "df_bpjs_clean[\"kdsd\"] = labelencoder.fit_transform(df_bpjs_clean[\"kdsd\"])"
      ]
    },
    {
      "cell_type": "markdown",
      "metadata": {
        "collapsed": false,
        "id": "Qr8Ih7eH8Wnk"
      },
      "source": [
        "Diagnose reference: [ICD-10 Version 2016](https://icd.who.int/browse10/2016/en)\n",
        "Procedure reference: [ICD-9-CM](http://www.icd9data.com/2012/Volume3/default.htm)"
      ]
    },
    {
      "cell_type": "code",
      "execution_count": 33,
      "metadata": {
        "id": "wRredVUc8Wnl"
      },
      "outputs": [],
      "source": [
        "import re\n",
        "\n",
        "dict_diag = {\"A\":1, \"B\":1, \"C\":2, \"D\":[2,3], \"E\":4, \"F\": 5,\n",
        "             \"G\":6, \"H\":[7,8], \"I\":9, \"J\":10, \"K\":11, \"L\": 12,\n",
        "             \"M\":13, \"N\":14, \"O\":15, \"P\":16, \"Q\":17, \"R\": 18,\n",
        "             \"S\":19, \"T\":19, \"U\":22, \"V\":20, \"W\":20, \"X\": 20,\n",
        "             \"Y\":20, \"Z\":21}"
      ]
    },
    {
      "cell_type": "code",
      "execution_count": 34,
      "metadata": {
        "id": "EXse9HFZ8Wnl"
      },
      "outputs": [],
      "source": [
        "from range_key_dict import RangeKeyDict\n",
        "\n",
        "dict_proc = RangeKeyDict({\n",
        "    (0, 1): 1, (1, 6): 2, (6, 8): 3, (8, 17): 4, (17, 18): 5,\n",
        "    (18, 21): 6, (21, 30): 7, (30, 35): 8, (35, 40): 9, (40, 42): 10,\n",
        "    (42, 55): 11, (55, 60): 12, (60, 65): 13, (65, 72): 14, (72, 76): 15,\n",
        "    (76, 85): 16, (85, 100): 17\n",
        "})\n",
        "def convert_proc(icd):\n",
        "    icd = float(icd)\n",
        "    return dict_proc[icd]"
      ]
    },
    {
      "cell_type": "code",
      "execution_count": 35,
      "metadata": {
        "id": "F3w14CF58Wnl"
      },
      "outputs": [],
      "source": [
        "def convert_diag(icd):\n",
        "    icd = list(filter(None, re.split(r'(\\d+)', icd)))\n",
        "\n",
        "    if icd[0] in dict_diag:\n",
        "        icd[1] = int(icd[1])\n",
        "        # check if diag is less than 48\n",
        "        if icd[0] == \"D\":\n",
        "            if icd[1] <= 48:\n",
        "                return dict_diag[\"D\"][0]\n",
        "            else:\n",
        "                return dict_diag[\"D\"][1]\n",
        "\n",
        "        # check if diag is less than 48\n",
        "        if icd[0] == \"H\":\n",
        "            if icd[1] <= 59:\n",
        "                return dict_diag[\"H\"][0]\n",
        "            else:\n",
        "                return dict_diag[\"H\"][1]\n",
        "\n",
        "        return dict_diag[icd[0]]\n",
        "    return np.nan"
      ]
    },
    {
      "cell_type": "code",
      "execution_count": 36,
      "metadata": {
        "id": "rI4BfrEI8Wnm"
      },
      "outputs": [],
      "source": [
        "df_bpjs_clean[\"diag\"] = df_bpjs_clean[\"diag\"].map(convert_diag)"
      ]
    },
    {
      "cell_type": "code",
      "execution_count": 37,
      "metadata": {
        "id": "E-dcyQ7m8Wnm"
      },
      "outputs": [],
      "source": [
        "df_bpjs_clean['proc'] = df_bpjs_clean['proc'].map(convert_proc)"
      ]
    },
    {
      "cell_type": "code",
      "execution_count": 38,
      "metadata": {
        "colab": {
          "base_uri": "https://localhost:8080/"
        },
        "id": "pHxbLSy98Wnm",
        "outputId": "e4df959d-198a-4b48-c397-2d7c7e01e286"
      },
      "outputs": [
        {
          "output_type": "execute_result",
          "data": {
            "text/plain": [
              "7.0     665876\n",
              "13.0    533019\n",
              "21.0    481613\n",
              "8.0     426455\n",
              "14.0    399964\n",
              "19.0    392445\n",
              "18.0    379510\n",
              "11.0    372148\n",
              "9.0     360991\n",
              "5.0     316992\n",
              "10.0    304513\n",
              "6.0     301731\n",
              "4.0     271138\n",
              "2.0     227472\n",
              "3.0     178046\n",
              "12.0    155283\n",
              "17.0    138235\n",
              "1.0     132425\n",
              "15.0    108783\n",
              "20.0     44028\n",
              "16.0     17236\n",
              "22.0        86\n",
              "Name: diag, dtype: int64"
            ]
          },
          "metadata": {},
          "execution_count": 38
        }
      ],
      "source": [
        "#todo konversi diag sesuai dengan referensi ICD-10\n",
        "df_bpjs_clean[\"diag\"].value_counts()"
      ]
    },
    {
      "cell_type": "markdown",
      "metadata": {
        "collapsed": false,
        "id": "EqIiSsWE8Wnm"
      },
      "source": [
        "#### Tips:\n",
        "- Split string antara karakter dan angka\n",
        "- Angkanya abaikan koma\n",
        "- Bandingkan karakter A-Z dengan referensi dan angka 00-99 dengan referensi\n",
        "- Tekniknya bisa membuat dataframe bantu atau dictionary"
      ]
    },
    {
      "cell_type": "code",
      "execution_count": 39,
      "metadata": {
        "colab": {
          "base_uri": "https://localhost:8080/"
        },
        "id": "BN5W2yTQ8Wnn",
        "outputId": "ebff618f-3d49-4b2c-d182-da1219507723"
      },
      "outputs": [
        {
          "output_type": "execute_result",
          "data": {
            "text/plain": [
              "17    5459689\n",
              "9      206383\n",
              "7      189135\n",
              "4      179345\n",
              "6       66000\n",
              "16      39839\n",
              "12      34565\n",
              "8        7724\n",
              "2        6126\n",
              "15       5329\n",
              "11       4524\n",
              "14       2693\n",
              "10       2558\n",
              "3        2206\n",
              "1        1331\n",
              "5         356\n",
              "13        271\n",
              "Name: proc, dtype: int64"
            ]
          },
          "metadata": {},
          "execution_count": 39
        }
      ],
      "source": [
        "#todo konversi proc sesuai dengan referensi ICD-9-CM\n",
        "df_bpjs_clean[\"proc\"].value_counts()"
      ]
    },
    {
      "cell_type": "code",
      "execution_count": 40,
      "metadata": {
        "colab": {
          "base_uri": "https://localhost:8080/",
          "height": 630
        },
        "id": "wMB8FUKG8Wnn",
        "outputId": "f35e840f-e78c-4234-832e-3fc1256166b3"
      },
      "outputs": [
        {
          "output_type": "execute_result",
          "data": {
            "text/plain": [
              "         id  id_peserta  dati2  typefaskes  usia  jenkel  pisat  \\\n",
              "11   143197         736     17          13    46       1    1.0   \n",
              "15  1057379         751     17           1    60       0    1.0   \n",
              "20  1052148        1123     17           1    15       0    4.0   \n",
              "21  1052148        1123     17           1    15       0    4.0   \n",
              "22   998994        1289     17           0    37       1    1.0   \n",
              "23  1036784        1300     17           7    51       1    3.0   \n",
              "35   995454        1615     17           0    64       0    1.0   \n",
              "37   164389        1682     17          15    59       1    3.0   \n",
              "38   164389        1682     17          15    59       1    3.0   \n",
              "39  1054980        1687     17           1    51       1    1.0   \n",
              "\n",
              "                   tgldatang                 tglpulang  jenispel  ...  \\\n",
              "11  2020-04-19T17:00:00.000Z  2020-04-19T17:00:00.000Z         2  ...   \n",
              "15  2019-10-08T17:00:00.000Z  2019-10-08T17:00:00.000Z         2  ...   \n",
              "20  2019-04-11T17:00:00.000Z  2019-04-11T17:00:00.000Z         2  ...   \n",
              "21  2019-04-11T17:00:00.000Z  2019-04-11T17:00:00.000Z         2  ...   \n",
              "22  2019-02-11T17:00:00.000Z  2019-02-11T17:00:00.000Z         2  ...   \n",
              "23  2018-01-04T17:00:00.000Z  2018-01-04T17:00:00.000Z         2  ...   \n",
              "35  2019-01-29T17:00:00.000Z  2019-01-29T17:00:00.000Z         2  ...   \n",
              "37  2020-05-04T17:00:00.000Z  2020-05-04T17:00:00.000Z         2  ...   \n",
              "38  2020-05-04T17:00:00.000Z  2020-05-04T17:00:00.000Z         2  ...   \n",
              "39  2018-08-14T17:00:00.000Z  2018-08-14T17:00:00.000Z         2  ...   \n",
              "\n",
              "    kelasrawat  kdsa  kdsp  kdsr  kdsi  kdsd  label  diag  levelid  proc  \n",
              "11           3     0     0     0     3     6      0   1.0      1.0    17  \n",
              "15           3     0     0     0     3     6      0  11.0      1.0    17  \n",
              "20           3     0     0     0     3     6      0  13.0      1.0    17  \n",
              "21           3     0     0     0     3     6      0  13.0      1.0    17  \n",
              "22           3     0     0     0     3     6      0  10.0      1.0    17  \n",
              "23           3     0     0     0     3     6      0  14.0      1.0    17  \n",
              "35           3     0     0     0     1     6      0  13.0      1.0    17  \n",
              "37           3     0     0     0     3     6      0   9.0      2.0    17  \n",
              "38           3     0     0     0     3     6      0   9.0      1.0    17  \n",
              "39           3     0     0     0     3     6      0  13.0      1.0    17  \n",
              "\n",
              "[10 rows x 25 columns]"
            ],
            "text/html": [
              "\n",
              "  <div id=\"df-b2e809c5-fc24-4c25-888e-f4a1c139c29b\">\n",
              "    <div class=\"colab-df-container\">\n",
              "      <div>\n",
              "<style scoped>\n",
              "    .dataframe tbody tr th:only-of-type {\n",
              "        vertical-align: middle;\n",
              "    }\n",
              "\n",
              "    .dataframe tbody tr th {\n",
              "        vertical-align: top;\n",
              "    }\n",
              "\n",
              "    .dataframe thead th {\n",
              "        text-align: right;\n",
              "    }\n",
              "</style>\n",
              "<table border=\"1\" class=\"dataframe\">\n",
              "  <thead>\n",
              "    <tr style=\"text-align: right;\">\n",
              "      <th></th>\n",
              "      <th>id</th>\n",
              "      <th>id_peserta</th>\n",
              "      <th>dati2</th>\n",
              "      <th>typefaskes</th>\n",
              "      <th>usia</th>\n",
              "      <th>jenkel</th>\n",
              "      <th>pisat</th>\n",
              "      <th>tgldatang</th>\n",
              "      <th>tglpulang</th>\n",
              "      <th>jenispel</th>\n",
              "      <th>...</th>\n",
              "      <th>kelasrawat</th>\n",
              "      <th>kdsa</th>\n",
              "      <th>kdsp</th>\n",
              "      <th>kdsr</th>\n",
              "      <th>kdsi</th>\n",
              "      <th>kdsd</th>\n",
              "      <th>label</th>\n",
              "      <th>diag</th>\n",
              "      <th>levelid</th>\n",
              "      <th>proc</th>\n",
              "    </tr>\n",
              "  </thead>\n",
              "  <tbody>\n",
              "    <tr>\n",
              "      <th>11</th>\n",
              "      <td>143197</td>\n",
              "      <td>736</td>\n",
              "      <td>17</td>\n",
              "      <td>13</td>\n",
              "      <td>46</td>\n",
              "      <td>1</td>\n",
              "      <td>1.0</td>\n",
              "      <td>2020-04-19T17:00:00.000Z</td>\n",
              "      <td>2020-04-19T17:00:00.000Z</td>\n",
              "      <td>2</td>\n",
              "      <td>...</td>\n",
              "      <td>3</td>\n",
              "      <td>0</td>\n",
              "      <td>0</td>\n",
              "      <td>0</td>\n",
              "      <td>3</td>\n",
              "      <td>6</td>\n",
              "      <td>0</td>\n",
              "      <td>1.0</td>\n",
              "      <td>1.0</td>\n",
              "      <td>17</td>\n",
              "    </tr>\n",
              "    <tr>\n",
              "      <th>15</th>\n",
              "      <td>1057379</td>\n",
              "      <td>751</td>\n",
              "      <td>17</td>\n",
              "      <td>1</td>\n",
              "      <td>60</td>\n",
              "      <td>0</td>\n",
              "      <td>1.0</td>\n",
              "      <td>2019-10-08T17:00:00.000Z</td>\n",
              "      <td>2019-10-08T17:00:00.000Z</td>\n",
              "      <td>2</td>\n",
              "      <td>...</td>\n",
              "      <td>3</td>\n",
              "      <td>0</td>\n",
              "      <td>0</td>\n",
              "      <td>0</td>\n",
              "      <td>3</td>\n",
              "      <td>6</td>\n",
              "      <td>0</td>\n",
              "      <td>11.0</td>\n",
              "      <td>1.0</td>\n",
              "      <td>17</td>\n",
              "    </tr>\n",
              "    <tr>\n",
              "      <th>20</th>\n",
              "      <td>1052148</td>\n",
              "      <td>1123</td>\n",
              "      <td>17</td>\n",
              "      <td>1</td>\n",
              "      <td>15</td>\n",
              "      <td>0</td>\n",
              "      <td>4.0</td>\n",
              "      <td>2019-04-11T17:00:00.000Z</td>\n",
              "      <td>2019-04-11T17:00:00.000Z</td>\n",
              "      <td>2</td>\n",
              "      <td>...</td>\n",
              "      <td>3</td>\n",
              "      <td>0</td>\n",
              "      <td>0</td>\n",
              "      <td>0</td>\n",
              "      <td>3</td>\n",
              "      <td>6</td>\n",
              "      <td>0</td>\n",
              "      <td>13.0</td>\n",
              "      <td>1.0</td>\n",
              "      <td>17</td>\n",
              "    </tr>\n",
              "    <tr>\n",
              "      <th>21</th>\n",
              "      <td>1052148</td>\n",
              "      <td>1123</td>\n",
              "      <td>17</td>\n",
              "      <td>1</td>\n",
              "      <td>15</td>\n",
              "      <td>0</td>\n",
              "      <td>4.0</td>\n",
              "      <td>2019-04-11T17:00:00.000Z</td>\n",
              "      <td>2019-04-11T17:00:00.000Z</td>\n",
              "      <td>2</td>\n",
              "      <td>...</td>\n",
              "      <td>3</td>\n",
              "      <td>0</td>\n",
              "      <td>0</td>\n",
              "      <td>0</td>\n",
              "      <td>3</td>\n",
              "      <td>6</td>\n",
              "      <td>0</td>\n",
              "      <td>13.0</td>\n",
              "      <td>1.0</td>\n",
              "      <td>17</td>\n",
              "    </tr>\n",
              "    <tr>\n",
              "      <th>22</th>\n",
              "      <td>998994</td>\n",
              "      <td>1289</td>\n",
              "      <td>17</td>\n",
              "      <td>0</td>\n",
              "      <td>37</td>\n",
              "      <td>1</td>\n",
              "      <td>1.0</td>\n",
              "      <td>2019-02-11T17:00:00.000Z</td>\n",
              "      <td>2019-02-11T17:00:00.000Z</td>\n",
              "      <td>2</td>\n",
              "      <td>...</td>\n",
              "      <td>3</td>\n",
              "      <td>0</td>\n",
              "      <td>0</td>\n",
              "      <td>0</td>\n",
              "      <td>3</td>\n",
              "      <td>6</td>\n",
              "      <td>0</td>\n",
              "      <td>10.0</td>\n",
              "      <td>1.0</td>\n",
              "      <td>17</td>\n",
              "    </tr>\n",
              "    <tr>\n",
              "      <th>23</th>\n",
              "      <td>1036784</td>\n",
              "      <td>1300</td>\n",
              "      <td>17</td>\n",
              "      <td>7</td>\n",
              "      <td>51</td>\n",
              "      <td>1</td>\n",
              "      <td>3.0</td>\n",
              "      <td>2018-01-04T17:00:00.000Z</td>\n",
              "      <td>2018-01-04T17:00:00.000Z</td>\n",
              "      <td>2</td>\n",
              "      <td>...</td>\n",
              "      <td>3</td>\n",
              "      <td>0</td>\n",
              "      <td>0</td>\n",
              "      <td>0</td>\n",
              "      <td>3</td>\n",
              "      <td>6</td>\n",
              "      <td>0</td>\n",
              "      <td>14.0</td>\n",
              "      <td>1.0</td>\n",
              "      <td>17</td>\n",
              "    </tr>\n",
              "    <tr>\n",
              "      <th>35</th>\n",
              "      <td>995454</td>\n",
              "      <td>1615</td>\n",
              "      <td>17</td>\n",
              "      <td>0</td>\n",
              "      <td>64</td>\n",
              "      <td>0</td>\n",
              "      <td>1.0</td>\n",
              "      <td>2019-01-29T17:00:00.000Z</td>\n",
              "      <td>2019-01-29T17:00:00.000Z</td>\n",
              "      <td>2</td>\n",
              "      <td>...</td>\n",
              "      <td>3</td>\n",
              "      <td>0</td>\n",
              "      <td>0</td>\n",
              "      <td>0</td>\n",
              "      <td>1</td>\n",
              "      <td>6</td>\n",
              "      <td>0</td>\n",
              "      <td>13.0</td>\n",
              "      <td>1.0</td>\n",
              "      <td>17</td>\n",
              "    </tr>\n",
              "    <tr>\n",
              "      <th>37</th>\n",
              "      <td>164389</td>\n",
              "      <td>1682</td>\n",
              "      <td>17</td>\n",
              "      <td>15</td>\n",
              "      <td>59</td>\n",
              "      <td>1</td>\n",
              "      <td>3.0</td>\n",
              "      <td>2020-05-04T17:00:00.000Z</td>\n",
              "      <td>2020-05-04T17:00:00.000Z</td>\n",
              "      <td>2</td>\n",
              "      <td>...</td>\n",
              "      <td>3</td>\n",
              "      <td>0</td>\n",
              "      <td>0</td>\n",
              "      <td>0</td>\n",
              "      <td>3</td>\n",
              "      <td>6</td>\n",
              "      <td>0</td>\n",
              "      <td>9.0</td>\n",
              "      <td>2.0</td>\n",
              "      <td>17</td>\n",
              "    </tr>\n",
              "    <tr>\n",
              "      <th>38</th>\n",
              "      <td>164389</td>\n",
              "      <td>1682</td>\n",
              "      <td>17</td>\n",
              "      <td>15</td>\n",
              "      <td>59</td>\n",
              "      <td>1</td>\n",
              "      <td>3.0</td>\n",
              "      <td>2020-05-04T17:00:00.000Z</td>\n",
              "      <td>2020-05-04T17:00:00.000Z</td>\n",
              "      <td>2</td>\n",
              "      <td>...</td>\n",
              "      <td>3</td>\n",
              "      <td>0</td>\n",
              "      <td>0</td>\n",
              "      <td>0</td>\n",
              "      <td>3</td>\n",
              "      <td>6</td>\n",
              "      <td>0</td>\n",
              "      <td>9.0</td>\n",
              "      <td>1.0</td>\n",
              "      <td>17</td>\n",
              "    </tr>\n",
              "    <tr>\n",
              "      <th>39</th>\n",
              "      <td>1054980</td>\n",
              "      <td>1687</td>\n",
              "      <td>17</td>\n",
              "      <td>1</td>\n",
              "      <td>51</td>\n",
              "      <td>1</td>\n",
              "      <td>1.0</td>\n",
              "      <td>2018-08-14T17:00:00.000Z</td>\n",
              "      <td>2018-08-14T17:00:00.000Z</td>\n",
              "      <td>2</td>\n",
              "      <td>...</td>\n",
              "      <td>3</td>\n",
              "      <td>0</td>\n",
              "      <td>0</td>\n",
              "      <td>0</td>\n",
              "      <td>3</td>\n",
              "      <td>6</td>\n",
              "      <td>0</td>\n",
              "      <td>13.0</td>\n",
              "      <td>1.0</td>\n",
              "      <td>17</td>\n",
              "    </tr>\n",
              "  </tbody>\n",
              "</table>\n",
              "<p>10 rows × 25 columns</p>\n",
              "</div>\n",
              "      <button class=\"colab-df-convert\" onclick=\"convertToInteractive('df-b2e809c5-fc24-4c25-888e-f4a1c139c29b')\"\n",
              "              title=\"Convert this dataframe to an interactive table.\"\n",
              "              style=\"display:none;\">\n",
              "        \n",
              "  <svg xmlns=\"http://www.w3.org/2000/svg\" height=\"24px\"viewBox=\"0 0 24 24\"\n",
              "       width=\"24px\">\n",
              "    <path d=\"M0 0h24v24H0V0z\" fill=\"none\"/>\n",
              "    <path d=\"M18.56 5.44l.94 2.06.94-2.06 2.06-.94-2.06-.94-.94-2.06-.94 2.06-2.06.94zm-11 1L8.5 8.5l.94-2.06 2.06-.94-2.06-.94L8.5 2.5l-.94 2.06-2.06.94zm10 10l.94 2.06.94-2.06 2.06-.94-2.06-.94-.94-2.06-.94 2.06-2.06.94z\"/><path d=\"M17.41 7.96l-1.37-1.37c-.4-.4-.92-.59-1.43-.59-.52 0-1.04.2-1.43.59L10.3 9.45l-7.72 7.72c-.78.78-.78 2.05 0 2.83L4 21.41c.39.39.9.59 1.41.59.51 0 1.02-.2 1.41-.59l7.78-7.78 2.81-2.81c.8-.78.8-2.07 0-2.86zM5.41 20L4 18.59l7.72-7.72 1.47 1.35L5.41 20z\"/>\n",
              "  </svg>\n",
              "      </button>\n",
              "      \n",
              "  <style>\n",
              "    .colab-df-container {\n",
              "      display:flex;\n",
              "      flex-wrap:wrap;\n",
              "      gap: 12px;\n",
              "    }\n",
              "\n",
              "    .colab-df-convert {\n",
              "      background-color: #E8F0FE;\n",
              "      border: none;\n",
              "      border-radius: 50%;\n",
              "      cursor: pointer;\n",
              "      display: none;\n",
              "      fill: #1967D2;\n",
              "      height: 32px;\n",
              "      padding: 0 0 0 0;\n",
              "      width: 32px;\n",
              "    }\n",
              "\n",
              "    .colab-df-convert:hover {\n",
              "      background-color: #E2EBFA;\n",
              "      box-shadow: 0px 1px 2px rgba(60, 64, 67, 0.3), 0px 1px 3px 1px rgba(60, 64, 67, 0.15);\n",
              "      fill: #174EA6;\n",
              "    }\n",
              "\n",
              "    [theme=dark] .colab-df-convert {\n",
              "      background-color: #3B4455;\n",
              "      fill: #D2E3FC;\n",
              "    }\n",
              "\n",
              "    [theme=dark] .colab-df-convert:hover {\n",
              "      background-color: #434B5C;\n",
              "      box-shadow: 0px 1px 3px 1px rgba(0, 0, 0, 0.15);\n",
              "      filter: drop-shadow(0px 1px 2px rgba(0, 0, 0, 0.3));\n",
              "      fill: #FFFFFF;\n",
              "    }\n",
              "  </style>\n",
              "\n",
              "      <script>\n",
              "        const buttonEl =\n",
              "          document.querySelector('#df-b2e809c5-fc24-4c25-888e-f4a1c139c29b button.colab-df-convert');\n",
              "        buttonEl.style.display =\n",
              "          google.colab.kernel.accessAllowed ? 'block' : 'none';\n",
              "\n",
              "        async function convertToInteractive(key) {\n",
              "          const element = document.querySelector('#df-b2e809c5-fc24-4c25-888e-f4a1c139c29b');\n",
              "          const dataTable =\n",
              "            await google.colab.kernel.invokeFunction('convertToInteractive',\n",
              "                                                     [key], {});\n",
              "          if (!dataTable) return;\n",
              "\n",
              "          const docLinkHtml = 'Like what you see? Visit the ' +\n",
              "            '<a target=\"_blank\" href=https://colab.research.google.com/notebooks/data_table.ipynb>data table notebook</a>'\n",
              "            + ' to learn more about interactive tables.';\n",
              "          element.innerHTML = '';\n",
              "          dataTable['output_type'] = 'display_data';\n",
              "          await google.colab.output.renderOutput(dataTable, element);\n",
              "          const docLink = document.createElement('div');\n",
              "          docLink.innerHTML = docLinkHtml;\n",
              "          element.appendChild(docLink);\n",
              "        }\n",
              "      </script>\n",
              "    </div>\n",
              "  </div>\n",
              "  "
            ]
          },
          "metadata": {},
          "execution_count": 40
        }
      ],
      "source": [
        "df_bpjs_clean.head(10)"
      ]
    },
    {
      "cell_type": "code",
      "execution_count": 41,
      "metadata": {
        "colab": {
          "base_uri": "https://localhost:8080/"
        },
        "id": "jm3zEjSu8Wno",
        "outputId": "0936e200-856e-43fd-97e0-f7acb4f01e99"
      },
      "outputs": [
        {
          "output_type": "stream",
          "name": "stdout",
          "text": [
            "<class 'pandas.core.frame.DataFrame'>\n",
            "Int64Index: 6208074 entries, 11 to 11242497\n",
            "Data columns (total 25 columns):\n",
            " #   Column       Non-Null Count    Dtype  \n",
            "---  ------       --------------    -----  \n",
            " 0   id           6208074 non-null  int64  \n",
            " 1   id_peserta   6208074 non-null  int64  \n",
            " 2   dati2        6208074 non-null  int64  \n",
            " 3   typefaskes   6208074 non-null  int64  \n",
            " 4   usia         6208074 non-null  int64  \n",
            " 5   jenkel       6208074 non-null  int64  \n",
            " 6   pisat        6208074 non-null  float64\n",
            " 7   tgldatang    6208074 non-null  object \n",
            " 8   tglpulang    6208074 non-null  object \n",
            " 9   jenispel     6208074 non-null  int64  \n",
            " 10  politujuan   6208074 non-null  int64  \n",
            " 11  diagfktp     6208074 non-null  int64  \n",
            " 12  biaya        6208074 non-null  float64\n",
            " 13  jenispulang  6208074 non-null  float64\n",
            " 14  cbg          6208074 non-null  int64  \n",
            " 15  kelasrawat   6208074 non-null  int64  \n",
            " 16  kdsa         6208074 non-null  int64  \n",
            " 17  kdsp         6208074 non-null  int64  \n",
            " 18  kdsr         6208074 non-null  int64  \n",
            " 19  kdsi         6208074 non-null  int64  \n",
            " 20  kdsd         6208074 non-null  int64  \n",
            " 21  label        6208074 non-null  int64  \n",
            " 22  diag         6207989 non-null  float64\n",
            " 23  levelid      6208074 non-null  float64\n",
            " 24  proc         6208074 non-null  int64  \n",
            "dtypes: float64(5), int64(18), object(2)\n",
            "memory usage: 1.2+ GB\n"
          ]
        }
      ],
      "source": [
        "# Hasil setelah cleaning\n",
        "df_bpjs_clean.info(verbose=True,show_counts=True)"
      ]
    },
    {
      "cell_type": "code",
      "execution_count": 42,
      "metadata": {
        "id": "To59eOIy8Wno"
      },
      "outputs": [],
      "source": [
        "# membuat kolom lama_kunjungan\n",
        "df_bpjs_clean['tgldatang'] = df_bpjs_clean['tgldatang'].str[0:10]\n",
        "df_bpjs_clean['tglpulang'] = df_bpjs_clean['tglpulang'].str[0:10]"
      ]
    },
    {
      "cell_type": "code",
      "execution_count": 43,
      "metadata": {
        "colab": {
          "base_uri": "https://localhost:8080/"
        },
        "id": "xcYQ0wek8Wnp",
        "outputId": "f745ffe9-cf3e-4a2d-a2bc-5c07049d4b36"
      },
      "outputs": [
        {
          "output_type": "stream",
          "name": "stdout",
          "text": [
            "<class 'pandas.core.frame.DataFrame'>\n",
            "Int64Index: 6208074 entries, 11 to 11242497\n",
            "Data columns (total 1 columns):\n",
            " #   Column  Dtype          \n",
            "---  ------  -----          \n",
            " 0   waktu   timedelta64[ns]\n",
            "dtypes: timedelta64[ns](1)\n",
            "memory usage: 94.7 MB\n"
          ]
        }
      ],
      "source": [
        "df_bpjs_clean['tgldatang'] = pd.to_datetime(df_bpjs_clean['tgldatang'])\n",
        "df_bpjs_clean['tglpulang'] = pd.to_datetime(df_bpjs_clean['tglpulang'])\n",
        "\n",
        "days = df_bpjs_clean['tglpulang'] - df_bpjs_clean['tgldatang']\n",
        "days = pd.DataFrame(days, columns=['waktu'])\n",
        "days.info()"
      ]
    },
    {
      "cell_type": "code",
      "execution_count": 44,
      "metadata": {
        "id": "qTbBUSRx8Wnq"
      },
      "outputs": [],
      "source": [
        "df_bpjs_clean['lama_kunjung'] = days['waktu'].dt.days"
      ]
    },
    {
      "cell_type": "code",
      "execution_count": 45,
      "metadata": {
        "colab": {
          "base_uri": "https://localhost:8080/",
          "height": 610
        },
        "id": "TUdLtazd8Wnq",
        "outputId": "904afb6e-a9a9-4a1c-bde7-c8a46531d664"
      },
      "outputs": [
        {
          "output_type": "execute_result",
          "data": {
            "text/plain": [
              "         id  id_peserta  dati2  typefaskes  usia  jenkel  pisat  tgldatang  \\\n",
              "11   143197         736     17          13    46       1    1.0 2020-04-19   \n",
              "15  1057379         751     17           1    60       0    1.0 2019-10-08   \n",
              "20  1052148        1123     17           1    15       0    4.0 2019-04-11   \n",
              "21  1052148        1123     17           1    15       0    4.0 2019-04-11   \n",
              "22   998994        1289     17           0    37       1    1.0 2019-02-11   \n",
              "23  1036784        1300     17           7    51       1    3.0 2018-01-04   \n",
              "35   995454        1615     17           0    64       0    1.0 2019-01-29   \n",
              "37   164389        1682     17          15    59       1    3.0 2020-05-04   \n",
              "38   164389        1682     17          15    59       1    3.0 2020-05-04   \n",
              "39  1054980        1687     17           1    51       1    1.0 2018-08-14   \n",
              "\n",
              "    tglpulang  jenispel  ...  kdsa  kdsp  kdsr  kdsi  kdsd  label  diag  \\\n",
              "11 2020-04-19         2  ...     0     0     0     3     6      0   1.0   \n",
              "15 2019-10-08         2  ...     0     0     0     3     6      0  11.0   \n",
              "20 2019-04-11         2  ...     0     0     0     3     6      0  13.0   \n",
              "21 2019-04-11         2  ...     0     0     0     3     6      0  13.0   \n",
              "22 2019-02-11         2  ...     0     0     0     3     6      0  10.0   \n",
              "23 2018-01-04         2  ...     0     0     0     3     6      0  14.0   \n",
              "35 2019-01-29         2  ...     0     0     0     1     6      0  13.0   \n",
              "37 2020-05-04         2  ...     0     0     0     3     6      0   9.0   \n",
              "38 2020-05-04         2  ...     0     0     0     3     6      0   9.0   \n",
              "39 2018-08-14         2  ...     0     0     0     3     6      0  13.0   \n",
              "\n",
              "    levelid  proc  lama_kunjung  \n",
              "11      1.0    17             0  \n",
              "15      1.0    17             0  \n",
              "20      1.0    17             0  \n",
              "21      1.0    17             0  \n",
              "22      1.0    17             0  \n",
              "23      1.0    17             0  \n",
              "35      1.0    17             0  \n",
              "37      2.0    17             0  \n",
              "38      1.0    17             0  \n",
              "39      1.0    17             0  \n",
              "\n",
              "[10 rows x 26 columns]"
            ],
            "text/html": [
              "\n",
              "  <div id=\"df-004ac4d9-6b5f-44aa-af41-ed7973ff8679\">\n",
              "    <div class=\"colab-df-container\">\n",
              "      <div>\n",
              "<style scoped>\n",
              "    .dataframe tbody tr th:only-of-type {\n",
              "        vertical-align: middle;\n",
              "    }\n",
              "\n",
              "    .dataframe tbody tr th {\n",
              "        vertical-align: top;\n",
              "    }\n",
              "\n",
              "    .dataframe thead th {\n",
              "        text-align: right;\n",
              "    }\n",
              "</style>\n",
              "<table border=\"1\" class=\"dataframe\">\n",
              "  <thead>\n",
              "    <tr style=\"text-align: right;\">\n",
              "      <th></th>\n",
              "      <th>id</th>\n",
              "      <th>id_peserta</th>\n",
              "      <th>dati2</th>\n",
              "      <th>typefaskes</th>\n",
              "      <th>usia</th>\n",
              "      <th>jenkel</th>\n",
              "      <th>pisat</th>\n",
              "      <th>tgldatang</th>\n",
              "      <th>tglpulang</th>\n",
              "      <th>jenispel</th>\n",
              "      <th>...</th>\n",
              "      <th>kdsa</th>\n",
              "      <th>kdsp</th>\n",
              "      <th>kdsr</th>\n",
              "      <th>kdsi</th>\n",
              "      <th>kdsd</th>\n",
              "      <th>label</th>\n",
              "      <th>diag</th>\n",
              "      <th>levelid</th>\n",
              "      <th>proc</th>\n",
              "      <th>lama_kunjung</th>\n",
              "    </tr>\n",
              "  </thead>\n",
              "  <tbody>\n",
              "    <tr>\n",
              "      <th>11</th>\n",
              "      <td>143197</td>\n",
              "      <td>736</td>\n",
              "      <td>17</td>\n",
              "      <td>13</td>\n",
              "      <td>46</td>\n",
              "      <td>1</td>\n",
              "      <td>1.0</td>\n",
              "      <td>2020-04-19</td>\n",
              "      <td>2020-04-19</td>\n",
              "      <td>2</td>\n",
              "      <td>...</td>\n",
              "      <td>0</td>\n",
              "      <td>0</td>\n",
              "      <td>0</td>\n",
              "      <td>3</td>\n",
              "      <td>6</td>\n",
              "      <td>0</td>\n",
              "      <td>1.0</td>\n",
              "      <td>1.0</td>\n",
              "      <td>17</td>\n",
              "      <td>0</td>\n",
              "    </tr>\n",
              "    <tr>\n",
              "      <th>15</th>\n",
              "      <td>1057379</td>\n",
              "      <td>751</td>\n",
              "      <td>17</td>\n",
              "      <td>1</td>\n",
              "      <td>60</td>\n",
              "      <td>0</td>\n",
              "      <td>1.0</td>\n",
              "      <td>2019-10-08</td>\n",
              "      <td>2019-10-08</td>\n",
              "      <td>2</td>\n",
              "      <td>...</td>\n",
              "      <td>0</td>\n",
              "      <td>0</td>\n",
              "      <td>0</td>\n",
              "      <td>3</td>\n",
              "      <td>6</td>\n",
              "      <td>0</td>\n",
              "      <td>11.0</td>\n",
              "      <td>1.0</td>\n",
              "      <td>17</td>\n",
              "      <td>0</td>\n",
              "    </tr>\n",
              "    <tr>\n",
              "      <th>20</th>\n",
              "      <td>1052148</td>\n",
              "      <td>1123</td>\n",
              "      <td>17</td>\n",
              "      <td>1</td>\n",
              "      <td>15</td>\n",
              "      <td>0</td>\n",
              "      <td>4.0</td>\n",
              "      <td>2019-04-11</td>\n",
              "      <td>2019-04-11</td>\n",
              "      <td>2</td>\n",
              "      <td>...</td>\n",
              "      <td>0</td>\n",
              "      <td>0</td>\n",
              "      <td>0</td>\n",
              "      <td>3</td>\n",
              "      <td>6</td>\n",
              "      <td>0</td>\n",
              "      <td>13.0</td>\n",
              "      <td>1.0</td>\n",
              "      <td>17</td>\n",
              "      <td>0</td>\n",
              "    </tr>\n",
              "    <tr>\n",
              "      <th>21</th>\n",
              "      <td>1052148</td>\n",
              "      <td>1123</td>\n",
              "      <td>17</td>\n",
              "      <td>1</td>\n",
              "      <td>15</td>\n",
              "      <td>0</td>\n",
              "      <td>4.0</td>\n",
              "      <td>2019-04-11</td>\n",
              "      <td>2019-04-11</td>\n",
              "      <td>2</td>\n",
              "      <td>...</td>\n",
              "      <td>0</td>\n",
              "      <td>0</td>\n",
              "      <td>0</td>\n",
              "      <td>3</td>\n",
              "      <td>6</td>\n",
              "      <td>0</td>\n",
              "      <td>13.0</td>\n",
              "      <td>1.0</td>\n",
              "      <td>17</td>\n",
              "      <td>0</td>\n",
              "    </tr>\n",
              "    <tr>\n",
              "      <th>22</th>\n",
              "      <td>998994</td>\n",
              "      <td>1289</td>\n",
              "      <td>17</td>\n",
              "      <td>0</td>\n",
              "      <td>37</td>\n",
              "      <td>1</td>\n",
              "      <td>1.0</td>\n",
              "      <td>2019-02-11</td>\n",
              "      <td>2019-02-11</td>\n",
              "      <td>2</td>\n",
              "      <td>...</td>\n",
              "      <td>0</td>\n",
              "      <td>0</td>\n",
              "      <td>0</td>\n",
              "      <td>3</td>\n",
              "      <td>6</td>\n",
              "      <td>0</td>\n",
              "      <td>10.0</td>\n",
              "      <td>1.0</td>\n",
              "      <td>17</td>\n",
              "      <td>0</td>\n",
              "    </tr>\n",
              "    <tr>\n",
              "      <th>23</th>\n",
              "      <td>1036784</td>\n",
              "      <td>1300</td>\n",
              "      <td>17</td>\n",
              "      <td>7</td>\n",
              "      <td>51</td>\n",
              "      <td>1</td>\n",
              "      <td>3.0</td>\n",
              "      <td>2018-01-04</td>\n",
              "      <td>2018-01-04</td>\n",
              "      <td>2</td>\n",
              "      <td>...</td>\n",
              "      <td>0</td>\n",
              "      <td>0</td>\n",
              "      <td>0</td>\n",
              "      <td>3</td>\n",
              "      <td>6</td>\n",
              "      <td>0</td>\n",
              "      <td>14.0</td>\n",
              "      <td>1.0</td>\n",
              "      <td>17</td>\n",
              "      <td>0</td>\n",
              "    </tr>\n",
              "    <tr>\n",
              "      <th>35</th>\n",
              "      <td>995454</td>\n",
              "      <td>1615</td>\n",
              "      <td>17</td>\n",
              "      <td>0</td>\n",
              "      <td>64</td>\n",
              "      <td>0</td>\n",
              "      <td>1.0</td>\n",
              "      <td>2019-01-29</td>\n",
              "      <td>2019-01-29</td>\n",
              "      <td>2</td>\n",
              "      <td>...</td>\n",
              "      <td>0</td>\n",
              "      <td>0</td>\n",
              "      <td>0</td>\n",
              "      <td>1</td>\n",
              "      <td>6</td>\n",
              "      <td>0</td>\n",
              "      <td>13.0</td>\n",
              "      <td>1.0</td>\n",
              "      <td>17</td>\n",
              "      <td>0</td>\n",
              "    </tr>\n",
              "    <tr>\n",
              "      <th>37</th>\n",
              "      <td>164389</td>\n",
              "      <td>1682</td>\n",
              "      <td>17</td>\n",
              "      <td>15</td>\n",
              "      <td>59</td>\n",
              "      <td>1</td>\n",
              "      <td>3.0</td>\n",
              "      <td>2020-05-04</td>\n",
              "      <td>2020-05-04</td>\n",
              "      <td>2</td>\n",
              "      <td>...</td>\n",
              "      <td>0</td>\n",
              "      <td>0</td>\n",
              "      <td>0</td>\n",
              "      <td>3</td>\n",
              "      <td>6</td>\n",
              "      <td>0</td>\n",
              "      <td>9.0</td>\n",
              "      <td>2.0</td>\n",
              "      <td>17</td>\n",
              "      <td>0</td>\n",
              "    </tr>\n",
              "    <tr>\n",
              "      <th>38</th>\n",
              "      <td>164389</td>\n",
              "      <td>1682</td>\n",
              "      <td>17</td>\n",
              "      <td>15</td>\n",
              "      <td>59</td>\n",
              "      <td>1</td>\n",
              "      <td>3.0</td>\n",
              "      <td>2020-05-04</td>\n",
              "      <td>2020-05-04</td>\n",
              "      <td>2</td>\n",
              "      <td>...</td>\n",
              "      <td>0</td>\n",
              "      <td>0</td>\n",
              "      <td>0</td>\n",
              "      <td>3</td>\n",
              "      <td>6</td>\n",
              "      <td>0</td>\n",
              "      <td>9.0</td>\n",
              "      <td>1.0</td>\n",
              "      <td>17</td>\n",
              "      <td>0</td>\n",
              "    </tr>\n",
              "    <tr>\n",
              "      <th>39</th>\n",
              "      <td>1054980</td>\n",
              "      <td>1687</td>\n",
              "      <td>17</td>\n",
              "      <td>1</td>\n",
              "      <td>51</td>\n",
              "      <td>1</td>\n",
              "      <td>1.0</td>\n",
              "      <td>2018-08-14</td>\n",
              "      <td>2018-08-14</td>\n",
              "      <td>2</td>\n",
              "      <td>...</td>\n",
              "      <td>0</td>\n",
              "      <td>0</td>\n",
              "      <td>0</td>\n",
              "      <td>3</td>\n",
              "      <td>6</td>\n",
              "      <td>0</td>\n",
              "      <td>13.0</td>\n",
              "      <td>1.0</td>\n",
              "      <td>17</td>\n",
              "      <td>0</td>\n",
              "    </tr>\n",
              "  </tbody>\n",
              "</table>\n",
              "<p>10 rows × 26 columns</p>\n",
              "</div>\n",
              "      <button class=\"colab-df-convert\" onclick=\"convertToInteractive('df-004ac4d9-6b5f-44aa-af41-ed7973ff8679')\"\n",
              "              title=\"Convert this dataframe to an interactive table.\"\n",
              "              style=\"display:none;\">\n",
              "        \n",
              "  <svg xmlns=\"http://www.w3.org/2000/svg\" height=\"24px\"viewBox=\"0 0 24 24\"\n",
              "       width=\"24px\">\n",
              "    <path d=\"M0 0h24v24H0V0z\" fill=\"none\"/>\n",
              "    <path d=\"M18.56 5.44l.94 2.06.94-2.06 2.06-.94-2.06-.94-.94-2.06-.94 2.06-2.06.94zm-11 1L8.5 8.5l.94-2.06 2.06-.94-2.06-.94L8.5 2.5l-.94 2.06-2.06.94zm10 10l.94 2.06.94-2.06 2.06-.94-2.06-.94-.94-2.06-.94 2.06-2.06.94z\"/><path d=\"M17.41 7.96l-1.37-1.37c-.4-.4-.92-.59-1.43-.59-.52 0-1.04.2-1.43.59L10.3 9.45l-7.72 7.72c-.78.78-.78 2.05 0 2.83L4 21.41c.39.39.9.59 1.41.59.51 0 1.02-.2 1.41-.59l7.78-7.78 2.81-2.81c.8-.78.8-2.07 0-2.86zM5.41 20L4 18.59l7.72-7.72 1.47 1.35L5.41 20z\"/>\n",
              "  </svg>\n",
              "      </button>\n",
              "      \n",
              "  <style>\n",
              "    .colab-df-container {\n",
              "      display:flex;\n",
              "      flex-wrap:wrap;\n",
              "      gap: 12px;\n",
              "    }\n",
              "\n",
              "    .colab-df-convert {\n",
              "      background-color: #E8F0FE;\n",
              "      border: none;\n",
              "      border-radius: 50%;\n",
              "      cursor: pointer;\n",
              "      display: none;\n",
              "      fill: #1967D2;\n",
              "      height: 32px;\n",
              "      padding: 0 0 0 0;\n",
              "      width: 32px;\n",
              "    }\n",
              "\n",
              "    .colab-df-convert:hover {\n",
              "      background-color: #E2EBFA;\n",
              "      box-shadow: 0px 1px 2px rgba(60, 64, 67, 0.3), 0px 1px 3px 1px rgba(60, 64, 67, 0.15);\n",
              "      fill: #174EA6;\n",
              "    }\n",
              "\n",
              "    [theme=dark] .colab-df-convert {\n",
              "      background-color: #3B4455;\n",
              "      fill: #D2E3FC;\n",
              "    }\n",
              "\n",
              "    [theme=dark] .colab-df-convert:hover {\n",
              "      background-color: #434B5C;\n",
              "      box-shadow: 0px 1px 3px 1px rgba(0, 0, 0, 0.15);\n",
              "      filter: drop-shadow(0px 1px 2px rgba(0, 0, 0, 0.3));\n",
              "      fill: #FFFFFF;\n",
              "    }\n",
              "  </style>\n",
              "\n",
              "      <script>\n",
              "        const buttonEl =\n",
              "          document.querySelector('#df-004ac4d9-6b5f-44aa-af41-ed7973ff8679 button.colab-df-convert');\n",
              "        buttonEl.style.display =\n",
              "          google.colab.kernel.accessAllowed ? 'block' : 'none';\n",
              "\n",
              "        async function convertToInteractive(key) {\n",
              "          const element = document.querySelector('#df-004ac4d9-6b5f-44aa-af41-ed7973ff8679');\n",
              "          const dataTable =\n",
              "            await google.colab.kernel.invokeFunction('convertToInteractive',\n",
              "                                                     [key], {});\n",
              "          if (!dataTable) return;\n",
              "\n",
              "          const docLinkHtml = 'Like what you see? Visit the ' +\n",
              "            '<a target=\"_blank\" href=https://colab.research.google.com/notebooks/data_table.ipynb>data table notebook</a>'\n",
              "            + ' to learn more about interactive tables.';\n",
              "          element.innerHTML = '';\n",
              "          dataTable['output_type'] = 'display_data';\n",
              "          await google.colab.output.renderOutput(dataTable, element);\n",
              "          const docLink = document.createElement('div');\n",
              "          docLink.innerHTML = docLinkHtml;\n",
              "          element.appendChild(docLink);\n",
              "        }\n",
              "      </script>\n",
              "    </div>\n",
              "  </div>\n",
              "  "
            ]
          },
          "metadata": {},
          "execution_count": 45
        }
      ],
      "source": [
        "df_bpjs_clean.head(10)"
      ]
    },
    {
      "cell_type": "code",
      "execution_count": 46,
      "metadata": {
        "id": "CZ5arSsU8Wnq"
      },
      "outputs": [],
      "source": [
        "# drop kolom yang tidak dibutuhkan\n",
        "df_bpjs_clean = df_bpjs_clean.drop(columns=['id', 'id_peserta','tgldatang','tglpulang'])"
      ]
    },
    {
      "cell_type": "code",
      "execution_count": 47,
      "metadata": {
        "colab": {
          "base_uri": "https://localhost:8080/"
        },
        "id": "RSK7qEEY8Wnr",
        "outputId": "54ddcf9a-ef78-499b-b4c3-e46647814a96"
      },
      "outputs": [
        {
          "output_type": "execute_result",
          "data": {
            "text/plain": [
              "0     6206634\n",
              "3         377\n",
              "2         356\n",
              "4         196\n",
              "1         181\n",
              "5         127\n",
              "6          71\n",
              "8          33\n",
              "9          21\n",
              "12         18\n",
              "14         17\n",
              "13         15\n",
              "10         10\n",
              "7          10\n",
              "56          2\n",
              "16          2\n",
              "54          2\n",
              "11          1\n",
              "47          1\n",
              "Name: lama_kunjung, dtype: int64"
            ]
          },
          "metadata": {},
          "execution_count": 47
        }
      ],
      "source": [
        "df_bpjs_clean['lama_kunjung'].value_counts()"
      ]
    },
    {
      "cell_type": "markdown",
      "metadata": {
        "collapsed": false,
        "id": "IT824EaZ8Wnr"
      },
      "source": [
        "## 4. Normalisasi Nilai"
      ]
    },
    {
      "cell_type": "code",
      "execution_count": 48,
      "metadata": {
        "colab": {
          "base_uri": "https://localhost:8080/",
          "height": 280
        },
        "id": "fRiZ8NTf8Wnr",
        "outputId": "d001b65b-4c00-4af0-8b7f-00fbad6a33b9"
      },
      "outputs": [
        {
          "output_type": "execute_result",
          "data": {
            "text/plain": [
              "    dati2  typefaskes  usia  jenkel  pisat  jenispel  politujuan  diagfktp  \\\n",
              "11     17          13    46       1    1.0         2         156      4638   \n",
              "15     17           1    60       0    1.0         2         142      4468   \n",
              "20     17           1    15       0    4.0         2         161      6166   \n",
              "21     17           1    15       0    4.0         2         161      6166   \n",
              "22     17           0    37       1    1.0         2         156      4325   \n",
              "\n",
              "       biaya  jenispulang  ...  kdsa  kdsp  kdsr  kdsi  kdsd  label  diag  \\\n",
              "11  186800.0          1.0  ...     0     0     0     3     6      0   1.0   \n",
              "15  211400.0          1.0  ...     0     0     0     3     6      0  11.0   \n",
              "20  114400.0          1.0  ...     0     0     0     3     6      0  13.0   \n",
              "21  114400.0          1.0  ...     0     0     0     3     6      0  13.0   \n",
              "22  479000.0          1.0  ...     0     0     0     3     6      0  10.0   \n",
              "\n",
              "    levelid  proc  lama_kunjung  \n",
              "11      1.0    17             0  \n",
              "15      1.0    17             0  \n",
              "20      1.0    17             0  \n",
              "21      1.0    17             0  \n",
              "22      1.0    17             0  \n",
              "\n",
              "[5 rows x 22 columns]"
            ],
            "text/html": [
              "\n",
              "  <div id=\"df-27811ad6-fdca-4d6b-82bf-09a5c75f209e\">\n",
              "    <div class=\"colab-df-container\">\n",
              "      <div>\n",
              "<style scoped>\n",
              "    .dataframe tbody tr th:only-of-type {\n",
              "        vertical-align: middle;\n",
              "    }\n",
              "\n",
              "    .dataframe tbody tr th {\n",
              "        vertical-align: top;\n",
              "    }\n",
              "\n",
              "    .dataframe thead th {\n",
              "        text-align: right;\n",
              "    }\n",
              "</style>\n",
              "<table border=\"1\" class=\"dataframe\">\n",
              "  <thead>\n",
              "    <tr style=\"text-align: right;\">\n",
              "      <th></th>\n",
              "      <th>dati2</th>\n",
              "      <th>typefaskes</th>\n",
              "      <th>usia</th>\n",
              "      <th>jenkel</th>\n",
              "      <th>pisat</th>\n",
              "      <th>jenispel</th>\n",
              "      <th>politujuan</th>\n",
              "      <th>diagfktp</th>\n",
              "      <th>biaya</th>\n",
              "      <th>jenispulang</th>\n",
              "      <th>...</th>\n",
              "      <th>kdsa</th>\n",
              "      <th>kdsp</th>\n",
              "      <th>kdsr</th>\n",
              "      <th>kdsi</th>\n",
              "      <th>kdsd</th>\n",
              "      <th>label</th>\n",
              "      <th>diag</th>\n",
              "      <th>levelid</th>\n",
              "      <th>proc</th>\n",
              "      <th>lama_kunjung</th>\n",
              "    </tr>\n",
              "  </thead>\n",
              "  <tbody>\n",
              "    <tr>\n",
              "      <th>11</th>\n",
              "      <td>17</td>\n",
              "      <td>13</td>\n",
              "      <td>46</td>\n",
              "      <td>1</td>\n",
              "      <td>1.0</td>\n",
              "      <td>2</td>\n",
              "      <td>156</td>\n",
              "      <td>4638</td>\n",
              "      <td>186800.0</td>\n",
              "      <td>1.0</td>\n",
              "      <td>...</td>\n",
              "      <td>0</td>\n",
              "      <td>0</td>\n",
              "      <td>0</td>\n",
              "      <td>3</td>\n",
              "      <td>6</td>\n",
              "      <td>0</td>\n",
              "      <td>1.0</td>\n",
              "      <td>1.0</td>\n",
              "      <td>17</td>\n",
              "      <td>0</td>\n",
              "    </tr>\n",
              "    <tr>\n",
              "      <th>15</th>\n",
              "      <td>17</td>\n",
              "      <td>1</td>\n",
              "      <td>60</td>\n",
              "      <td>0</td>\n",
              "      <td>1.0</td>\n",
              "      <td>2</td>\n",
              "      <td>142</td>\n",
              "      <td>4468</td>\n",
              "      <td>211400.0</td>\n",
              "      <td>1.0</td>\n",
              "      <td>...</td>\n",
              "      <td>0</td>\n",
              "      <td>0</td>\n",
              "      <td>0</td>\n",
              "      <td>3</td>\n",
              "      <td>6</td>\n",
              "      <td>0</td>\n",
              "      <td>11.0</td>\n",
              "      <td>1.0</td>\n",
              "      <td>17</td>\n",
              "      <td>0</td>\n",
              "    </tr>\n",
              "    <tr>\n",
              "      <th>20</th>\n",
              "      <td>17</td>\n",
              "      <td>1</td>\n",
              "      <td>15</td>\n",
              "      <td>0</td>\n",
              "      <td>4.0</td>\n",
              "      <td>2</td>\n",
              "      <td>161</td>\n",
              "      <td>6166</td>\n",
              "      <td>114400.0</td>\n",
              "      <td>1.0</td>\n",
              "      <td>...</td>\n",
              "      <td>0</td>\n",
              "      <td>0</td>\n",
              "      <td>0</td>\n",
              "      <td>3</td>\n",
              "      <td>6</td>\n",
              "      <td>0</td>\n",
              "      <td>13.0</td>\n",
              "      <td>1.0</td>\n",
              "      <td>17</td>\n",
              "      <td>0</td>\n",
              "    </tr>\n",
              "    <tr>\n",
              "      <th>21</th>\n",
              "      <td>17</td>\n",
              "      <td>1</td>\n",
              "      <td>15</td>\n",
              "      <td>0</td>\n",
              "      <td>4.0</td>\n",
              "      <td>2</td>\n",
              "      <td>161</td>\n",
              "      <td>6166</td>\n",
              "      <td>114400.0</td>\n",
              "      <td>1.0</td>\n",
              "      <td>...</td>\n",
              "      <td>0</td>\n",
              "      <td>0</td>\n",
              "      <td>0</td>\n",
              "      <td>3</td>\n",
              "      <td>6</td>\n",
              "      <td>0</td>\n",
              "      <td>13.0</td>\n",
              "      <td>1.0</td>\n",
              "      <td>17</td>\n",
              "      <td>0</td>\n",
              "    </tr>\n",
              "    <tr>\n",
              "      <th>22</th>\n",
              "      <td>17</td>\n",
              "      <td>0</td>\n",
              "      <td>37</td>\n",
              "      <td>1</td>\n",
              "      <td>1.0</td>\n",
              "      <td>2</td>\n",
              "      <td>156</td>\n",
              "      <td>4325</td>\n",
              "      <td>479000.0</td>\n",
              "      <td>1.0</td>\n",
              "      <td>...</td>\n",
              "      <td>0</td>\n",
              "      <td>0</td>\n",
              "      <td>0</td>\n",
              "      <td>3</td>\n",
              "      <td>6</td>\n",
              "      <td>0</td>\n",
              "      <td>10.0</td>\n",
              "      <td>1.0</td>\n",
              "      <td>17</td>\n",
              "      <td>0</td>\n",
              "    </tr>\n",
              "  </tbody>\n",
              "</table>\n",
              "<p>5 rows × 22 columns</p>\n",
              "</div>\n",
              "      <button class=\"colab-df-convert\" onclick=\"convertToInteractive('df-27811ad6-fdca-4d6b-82bf-09a5c75f209e')\"\n",
              "              title=\"Convert this dataframe to an interactive table.\"\n",
              "              style=\"display:none;\">\n",
              "        \n",
              "  <svg xmlns=\"http://www.w3.org/2000/svg\" height=\"24px\"viewBox=\"0 0 24 24\"\n",
              "       width=\"24px\">\n",
              "    <path d=\"M0 0h24v24H0V0z\" fill=\"none\"/>\n",
              "    <path d=\"M18.56 5.44l.94 2.06.94-2.06 2.06-.94-2.06-.94-.94-2.06-.94 2.06-2.06.94zm-11 1L8.5 8.5l.94-2.06 2.06-.94-2.06-.94L8.5 2.5l-.94 2.06-2.06.94zm10 10l.94 2.06.94-2.06 2.06-.94-2.06-.94-.94-2.06-.94 2.06-2.06.94z\"/><path d=\"M17.41 7.96l-1.37-1.37c-.4-.4-.92-.59-1.43-.59-.52 0-1.04.2-1.43.59L10.3 9.45l-7.72 7.72c-.78.78-.78 2.05 0 2.83L4 21.41c.39.39.9.59 1.41.59.51 0 1.02-.2 1.41-.59l7.78-7.78 2.81-2.81c.8-.78.8-2.07 0-2.86zM5.41 20L4 18.59l7.72-7.72 1.47 1.35L5.41 20z\"/>\n",
              "  </svg>\n",
              "      </button>\n",
              "      \n",
              "  <style>\n",
              "    .colab-df-container {\n",
              "      display:flex;\n",
              "      flex-wrap:wrap;\n",
              "      gap: 12px;\n",
              "    }\n",
              "\n",
              "    .colab-df-convert {\n",
              "      background-color: #E8F0FE;\n",
              "      border: none;\n",
              "      border-radius: 50%;\n",
              "      cursor: pointer;\n",
              "      display: none;\n",
              "      fill: #1967D2;\n",
              "      height: 32px;\n",
              "      padding: 0 0 0 0;\n",
              "      width: 32px;\n",
              "    }\n",
              "\n",
              "    .colab-df-convert:hover {\n",
              "      background-color: #E2EBFA;\n",
              "      box-shadow: 0px 1px 2px rgba(60, 64, 67, 0.3), 0px 1px 3px 1px rgba(60, 64, 67, 0.15);\n",
              "      fill: #174EA6;\n",
              "    }\n",
              "\n",
              "    [theme=dark] .colab-df-convert {\n",
              "      background-color: #3B4455;\n",
              "      fill: #D2E3FC;\n",
              "    }\n",
              "\n",
              "    [theme=dark] .colab-df-convert:hover {\n",
              "      background-color: #434B5C;\n",
              "      box-shadow: 0px 1px 3px 1px rgba(0, 0, 0, 0.15);\n",
              "      filter: drop-shadow(0px 1px 2px rgba(0, 0, 0, 0.3));\n",
              "      fill: #FFFFFF;\n",
              "    }\n",
              "  </style>\n",
              "\n",
              "      <script>\n",
              "        const buttonEl =\n",
              "          document.querySelector('#df-27811ad6-fdca-4d6b-82bf-09a5c75f209e button.colab-df-convert');\n",
              "        buttonEl.style.display =\n",
              "          google.colab.kernel.accessAllowed ? 'block' : 'none';\n",
              "\n",
              "        async function convertToInteractive(key) {\n",
              "          const element = document.querySelector('#df-27811ad6-fdca-4d6b-82bf-09a5c75f209e');\n",
              "          const dataTable =\n",
              "            await google.colab.kernel.invokeFunction('convertToInteractive',\n",
              "                                                     [key], {});\n",
              "          if (!dataTable) return;\n",
              "\n",
              "          const docLinkHtml = 'Like what you see? Visit the ' +\n",
              "            '<a target=\"_blank\" href=https://colab.research.google.com/notebooks/data_table.ipynb>data table notebook</a>'\n",
              "            + ' to learn more about interactive tables.';\n",
              "          element.innerHTML = '';\n",
              "          dataTable['output_type'] = 'display_data';\n",
              "          await google.colab.output.renderOutput(dataTable, element);\n",
              "          const docLink = document.createElement('div');\n",
              "          docLink.innerHTML = docLinkHtml;\n",
              "          element.appendChild(docLink);\n",
              "        }\n",
              "      </script>\n",
              "    </div>\n",
              "  </div>\n",
              "  "
            ]
          },
          "metadata": {},
          "execution_count": 48
        }
      ],
      "source": [
        "df_bpjs_clean.head()"
      ]
    },
    {
      "cell_type": "code",
      "execution_count": 49,
      "metadata": {
        "id": "wTk12u5n8Wns"
      },
      "outputs": [],
      "source": [
        "# skalasi data dengan MinMax (membawa rentang nilai ke antara 0 dan 1)\n",
        "scaler = MinMaxScaler()\n",
        "scaler.fit(df_bpjs_clean)\n",
        "scaled = scaler.fit_transform(df_bpjs_clean)\n",
        "df_scaled = pd.DataFrame(scaled, columns=df_bpjs_clean.columns)"
      ]
    },
    {
      "cell_type": "code",
      "execution_count": 50,
      "metadata": {
        "id": "cabQ53v-8Wns"
      },
      "outputs": [],
      "source": [
        "df_scaled = df_scaled.dropna()"
      ]
    },
    {
      "cell_type": "code",
      "execution_count": 51,
      "metadata": {
        "colab": {
          "base_uri": "https://localhost:8080/"
        },
        "id": "CAWiTx6q8Wns",
        "outputId": "bcbbc2e7-9629-4150-d6d2-d844b1f2b417"
      },
      "outputs": [
        {
          "output_type": "execute_result",
          "data": {
            "text/plain": [
              "dati2           0\n",
              "typefaskes      0\n",
              "usia            0\n",
              "jenkel          0\n",
              "pisat           0\n",
              "jenispel        0\n",
              "politujuan      0\n",
              "diagfktp        0\n",
              "biaya           0\n",
              "jenispulang     0\n",
              "cbg             0\n",
              "kelasrawat      0\n",
              "kdsa            0\n",
              "kdsp            0\n",
              "kdsr            0\n",
              "kdsi            0\n",
              "kdsd            0\n",
              "label           0\n",
              "diag            0\n",
              "levelid         0\n",
              "proc            0\n",
              "lama_kunjung    0\n",
              "dtype: int64"
            ]
          },
          "metadata": {},
          "execution_count": 51
        }
      ],
      "source": [
        "df_scaled.isnull().sum()"
      ]
    },
    {
      "cell_type": "markdown",
      "metadata": {
        "collapsed": false,
        "id": "sF6gkw_H8Wnt"
      },
      "source": [
        "## 5. Resampling Imbalanced Label"
      ]
    },
    {
      "cell_type": "code",
      "execution_count": 52,
      "metadata": {
        "colab": {
          "base_uri": "https://localhost:8080/"
        },
        "id": "Yo2DOjmd8Wnt",
        "outputId": "b2ff6b29-f9cc-41ee-a192-36b3c250acfa"
      },
      "outputs": [
        {
          "output_type": "execute_result",
          "data": {
            "text/plain": [
              "0.0    6144849\n",
              "1.0      63140\n",
              "Name: label, dtype: int64"
            ]
          },
          "metadata": {},
          "execution_count": 52
        }
      ],
      "source": [
        "df_scaled[\"label\"].value_counts()"
      ]
    },
    {
      "cell_type": "code",
      "execution_count": 53,
      "metadata": {
        "colab": {
          "base_uri": "https://localhost:8080/",
          "height": 339
        },
        "id": "qIvElehK8Wnt",
        "outputId": "6034ef07-853e-4cbb-e20a-e0969e7087f0"
      },
      "outputs": [
        {
          "output_type": "stream",
          "name": "stdout",
          "text": [
            "Class 0: 6144849\n",
            "Class 1: 63140\n",
            "Proportion: 97.32 : 1\n"
          ]
        },
        {
          "output_type": "display_data",
          "data": {
            "text/plain": [
              "<Figure size 432x288 with 1 Axes>"
            ],
            "image/png": "[encoded data removed]"
          },
          "metadata": {
            "needs_background": "light"
          }
        }
      ],
      "source": [
        "label_count = df_scaled.label.value_counts()\n",
        "print('Class 0:', label_count[0])\n",
        "print('Class 1:', label_count[1])\n",
        "print('Proportion:', round(label_count[0] / label_count[1], 2), ': 1')\n",
        "\n",
        "label_count.plot(kind='bar', title='Count (label)');"
      ]
    },
    {
      "cell_type": "code",
      "execution_count": 54,
      "metadata": {
        "id": "F8fdfch08Wnu"
      },
      "outputs": [],
      "source": [
        "X = df_scaled.drop(['label'], axis = 1)\n",
        "y = df_scaled['label']"
      ]
    },
    {
      "cell_type": "code",
      "execution_count": 55,
      "metadata": {
        "colab": {
          "base_uri": "https://localhost:8080/"
        },
        "id": "RZt9m9Cu8Wnu",
        "outputId": "c04f5fe8-de8e-413c-a4c3-5f2d6b6768e7"
      },
      "outputs": [
        {
          "output_type": "stream",
          "name": "stdout",
          "text": [
            "(6207989, 21)\n",
            "(6207989,)\n"
          ]
        }
      ],
      "source": [
        "print(X.shape)\n",
        "print(y.shape)"
      ]
    },
    {
      "cell_type": "markdown",
      "metadata": {
        "id": "6hST_9E_ecjj"
      },
      "source": [
        "## Split data"
      ]
    },
    {
      "cell_type": "code",
      "execution_count": 56,
      "metadata": {
        "colab": {
          "base_uri": "https://localhost:8080/"
        },
        "id": "Cfm8xfDfe3Ty",
        "outputId": "19075fd0-7a09-4436-a81f-f3b3743c2c1a"
      },
      "outputs": [
        {
          "output_type": "execute_result",
          "data": {
            "text/plain": [
              "0          0.0\n",
              "1          0.0\n",
              "2          0.0\n",
              "3          0.0\n",
              "4          0.0\n",
              "          ... \n",
              "6208069    0.0\n",
              "6208070    0.0\n",
              "6208071    0.0\n",
              "6208072    0.0\n",
              "6208073    0.0\n",
              "Name: lama_kunjung, Length: 6207989, dtype: float64"
            ]
          },
          "metadata": {},
          "execution_count": 56
        }
      ],
      "source": [
        "X_ujung = df_scaled.iloc[:,:-1]\n",
        "y_ujung = df_scaled.iloc[:,-1]\n",
        "y_ujung"
      ]
    },
    {
      "cell_type": "code",
      "execution_count": 57,
      "metadata": {
        "colab": {
          "base_uri": "https://localhost:8080/"
        },
        "id": "P3f9Gq10eawy",
        "outputId": "6fef5c1a-399c-4fea-ef8b-1f1a3ab997db"
      },
      "outputs": [
        {
          "output_type": "stream",
          "name": "stdout",
          "text": [
            "Before undersampling:  Counter({0.0: 4301256, 1.0: 44336})\n"
          ]
        }
      ],
      "source": [
        "#Split train-test data\n",
        "from collections import Counter\n",
        "from sklearn.model_selection import train_test_split\n",
        "\n",
        "X_train, X_test, y_train, y_test = train_test_split(X,y,test_size=0.30)\n",
        "\n",
        "# summarize class distribution\n",
        "print(\"Before undersampling: \", Counter(y_train))"
      ]
    },
    {
      "cell_type": "markdown",
      "metadata": {
        "id": "OUQv8vXcfjkk"
      },
      "source": [
        "## Undersampling Data"
      ]
    },
    {
      "cell_type": "code",
      "execution_count": 58,
      "metadata": {
        "id": "aN4TUoOUfodU"
      },
      "outputs": [],
      "source": [
        "# # # define undersampling strategy\n",
        "\n",
        "# from imblearn.under_sampling import RandomUnderSampler\n",
        "# import warnings\n",
        "# warnings.simplefilter(action='ignore', category=FutureWarning)\n",
        "\n",
        "# undersample = RandomUnderSampler(sampling_strategy='majority')\n",
        "\n",
        "# # fit and apply the transform\n",
        "# X_train_under, y_train_under = undersample.fit_resample(X_train, y_train)\n",
        "\n",
        "# # summarize class distribution\n",
        "# print(\"After undersampling: \", Counter(y_train_under))"
      ]
    },
    {
      "cell_type": "markdown",
      "metadata": {
        "id": "U2QGufNyQczK"
      },
      "source": [
        "## Oversampling Data"
      ]
    },
    {
      "cell_type": "code",
      "execution_count": 59,
      "metadata": {
        "colab": {
          "base_uri": "https://localhost:8080/"
        },
        "id": "rEmavWrvQagy",
        "outputId": "6bd5ff5a-4686-4477-84c2-ed5cc8c70e79"
      },
      "outputs": [
        {
          "output_type": "stream",
          "name": "stdout",
          "text": [
            "After undersampling:  Counter({0.0: 4301256, 1.0: 4301256})\n"
          ]
        }
      ],
      "source": [
        "# define oversampling strategy\n",
        "\n",
        "from sklearn.datasets import make_classification\n",
        "from imblearn.over_sampling import RandomOverSampler\n",
        "import warnings\n",
        "warnings.simplefilter(action='ignore', category=FutureWarning)\n",
        "\n",
        "undersample = RandomOverSampler(sampling_strategy='minority')\n",
        "\n",
        "# fit and apply the transform\n",
        "X_train_under, y_train_under = undersample.fit_resample(X_train, y_train)\n",
        "\n",
        "# summarize class distribution\n",
        "print(\"After undersampling: \", Counter(y_train_under))\n"
      ]
    },
    {
      "cell_type": "markdown",
      "metadata": {
        "id": "kf9W1A2EgRVF"
      },
      "source": [
        "# Modelling"
      ]
    },
    {
      "cell_type": "code",
      "execution_count": 60,
      "metadata": {
        "colab": {
          "base_uri": "https://localhost:8080/"
        },
        "id": "8dg6oSB-l-_E",
        "outputId": "161aa0c1-1562-43d6-fc4e-4b7344556998"
      },
      "outputs": [
        {
          "output_type": "stream",
          "name": "stdout",
          "text": [
            "<class 'pandas.core.frame.DataFrame'>\n",
            "Int64Index: 1862397 entries, 2694218 to 377236\n",
            "Data columns (total 21 columns):\n",
            " #   Column        Dtype  \n",
            "---  ------        -----  \n",
            " 0   dati2         float64\n",
            " 1   typefaskes    float64\n",
            " 2   usia          float64\n",
            " 3   jenkel        float64\n",
            " 4   pisat         float64\n",
            " 5   jenispel      float64\n",
            " 6   politujuan    float64\n",
            " 7   diagfktp      float64\n",
            " 8   biaya         float64\n",
            " 9   jenispulang   float64\n",
            " 10  cbg           float64\n",
            " 11  kelasrawat    float64\n",
            " 12  kdsa          float64\n",
            " 13  kdsp          float64\n",
            " 14  kdsr          float64\n",
            " 15  kdsi          float64\n",
            " 16  kdsd          float64\n",
            " 17  diag          float64\n",
            " 18  levelid       float64\n",
            " 19  proc          float64\n",
            " 20  lama_kunjung  float64\n",
            "dtypes: float64(21)\n",
            "memory usage: 312.6 MB\n"
          ]
        }
      ],
      "source": [
        "X_test.info()"
      ]
    },
    {
      "cell_type": "code",
      "execution_count": 61,
      "metadata": {
        "colab": {
          "base_uri": "https://localhost:8080/"
        },
        "id": "w1tpKzMup4TV",
        "outputId": "880f0e1e-9325-4556-d1bd-b6f5a867e186"
      },
      "outputs": [
        {
          "output_type": "execute_result",
          "data": {
            "text/plain": [
              "(1862397, 21)"
            ]
          },
          "metadata": {},
          "execution_count": 61
        }
      ],
      "source": [
        "X_test.shape"
      ]
    },
    {
      "cell_type": "code",
      "execution_count": 62,
      "metadata": {
        "id": "mgWu-iJDg_io"
      },
      "outputs": [],
      "source": [
        "from sklearn.naive_bayes import GaussianNB\n",
        "from sklearn import svm\n",
        "from sklearn.ensemble import RandomForestClassifier #hasil 0,67\n",
        "from sklearn.neural_network import MLPClassifier\n",
        "from sklearn.neighbors import KNeighborsClassifier\n",
        "from sklearn.ensemble import GradientBoostingClassifier #hasil 0,07\n",
        "from sklearn.tree import DecisionTreeClassifier\n",
        "\n",
        "model =  RandomForestClassifier()\n",
        "clf_under = model.fit(X_train_under, y_train_under)\n",
        "pred_under = clf_under.predict(X_test)"
      ]
    },
    {
      "cell_type": "code",
      "execution_count": 63,
      "metadata": {
        "id": "O7pBn3_8LMhJ",
        "colab": {
          "base_uri": "https://localhost:8080/"
        },
        "outputId": "88391196-d583-4ffb-9b6f-4ea9a77d6ec9"
      },
      "outputs": [
        {
          "output_type": "stream",
          "name": "stdout",
          "text": [
            "specificity :  0.9972895319086154\n",
            "recall :  0.6338544990427568\n",
            "precision :  0.7045991960274296\n",
            "accouracy :  0.9936200498604755\n",
            "F1 Score :  0.6673572228443448\n"
          ]
        }
      ],
      "source": [
        "from sklearn.metrics import confusion_matrix\n",
        "from sklearn.metrics import accuracy_score,classification_report\n",
        "\n",
        "tn, fp, fn, tp = confusion_matrix(y_test, pred_under).ravel() \n",
        "specificity = tn / (tn+fp)\n",
        "recall = tp/(tp+fn)\n",
        "precision = tp/(tp+fp)\n",
        "f1_score = 2* ((precision*recall)/(precision+recall))\n",
        "print('specificity : ',specificity)\n",
        "print('recall : ',recall)\n",
        "print('precision : ',precision)\n",
        "print('accouracy : ',accuracy_score(y_test, pred_under))\n",
        "print('F1 Score : ', f1_score)\n",
        "# print(classification_report(y_test, pred_under))"
      ]
    },
    {
      "cell_type": "code",
      "execution_count": 64,
      "metadata": {
        "id": "YxUbBV3LTc6M"
      },
      "outputs": [],
      "source": [
        "# from sklearn.metrics import mean_absolute_error\n",
        "\n",
        "# # max n_estimators\n",
        "# def get_mae(max_leaf_nodes, train_X, val_X, train_y, val_y):\n",
        "#     model = RandomForestClassifier(n_estimators=max_leaf_nodes, random_state=0)\n",
        "#     model.fit(train_X, train_y)\n",
        "#     preds_val = model.predict(val_X)\n",
        "#     # mae = mean_absolute_error(val_y, preds_val)\n",
        "#     tn, fp, fn, tp = confusion_matrix(y_test, preds_val).ravel()\n",
        "#     recall = tp/(tp+fn)\n",
        "#     precision = tp/(tp+fp)\n",
        "#     f1_score = 2* ((precision*recall)/(precision+recall))\n",
        "#     return(f1_score)\n",
        "\n",
        "# for max_leaf_nodes in [100, 500, 1000, 5000]:\n",
        "#     my_mae = get_mae(max_leaf_nodes, X_train_under, X_test, y_train_under, y_test)\n",
        "#     print(\"Max leaf nodes: %d  \\t\\t F1 Score:  %d\" %(max_leaf_nodes, my_mae))\n",
        "#     # print('F1 Score : ', f1_score)"
      ]
    },
    {
      "cell_type": "code",
      "execution_count": 65,
      "metadata": {
        "id": "WR3MAgyKYyPy"
      },
      "outputs": [],
      "source": [
        "# print(pred_under)\n",
        "# X_test.index\n",
        "# results['y_pred'] = y_pred"
      ]
    },
    {
      "cell_type": "code",
      "execution_count": 66,
      "metadata": {
        "id": "KEv-bcK6dAOU"
      },
      "outputs": [],
      "source": [
        "# len(pred_under)\n",
        "# df_result =  pd.DataFrame({'id': X_test.index, 'label': pred_under.flatten()})\n",
        "# df_result =  pd.DataFrame({'label': pred_under.flatten()}, index = X_test.index )\n",
        "# df_result.index.set_names('id', inplace = True)\n",
        "# df_result.head()"
      ]
    },
    {
      "cell_type": "code",
      "execution_count": 67,
      "metadata": {
        "id": "0OHsngaq8Wnu"
      },
      "outputs": [],
      "source": [
        "# X.info(verbose=True, show_counts=True)"
      ]
    },
    {
      "cell_type": "code",
      "execution_count": 68,
      "metadata": {
        "id": "P9hEgU018Wnv"
      },
      "outputs": [],
      "source": [
        "# def plot_2d_space(X, y, label='Classes'):\n",
        "#     colors = ['#1F77B4', '#FF7F0E']\n",
        "#     markers = ['o', 's']\n",
        "#     for l, c, m in zip(np.unique(y), colors, markers):\n",
        "#         plt.scatter(\n",
        "#             X[y==l, 0],\n",
        "#             X[y==l, 1],\n",
        "#             c=c, label=l, marker=m\n",
        "#         )\n",
        "#     plt.title(label)\n",
        "#     plt.legend(loc='upper right')\n",
        "#     plt.show()"
      ]
    },
    {
      "cell_type": "code",
      "execution_count": 69,
      "metadata": {
        "id": "eeaqpRqi8Wn4"
      },
      "outputs": [],
      "source": [
        "# from sklearn.decomposition import PCA\n",
        "#\n",
        "# pca = PCA(n_components=2)\n",
        "# X = pca.fit_transform(X)\n",
        "#\n",
        "# plot_2d_space(X, y, 'Imbalanced dataset (10 PCA components)')"
      ]
    },
    {
      "cell_type": "code",
      "execution_count": 70,
      "metadata": {
        "id": "WxKC947ga-EW"
      },
      "outputs": [],
      "source": [
        "# # import random undersampling and other necessary libraries \n",
        "# from collections import Counter\n",
        "# from imblearn.under_sampling import RandomUnderSampler\n",
        "# from sklearn.model_selection import train_test_split\n",
        "# import pandas as pd\n",
        "# import numpy as np\n",
        "# import warnings\n",
        "# warnings.simplefilter(action='ignore', category=FutureWarning)"
      ]
    },
    {
      "cell_type": "code",
      "execution_count": 71,
      "metadata": {
        "id": "1b-MO8JpbHct"
      },
      "outputs": [],
      "source": [
        "# #import data\n",
        "# url = \"https://raw.githubusercontent.com/jackty9/Handling_Imbalanced_Data_in_Python/master/bank-full-encoded.csv\"\n",
        "# df = pd.read_csv(url)"
      ]
    },
    {
      "cell_type": "markdown",
      "metadata": {
        "collapsed": false,
        "id": "UcP5cG-s8Wn4"
      },
      "source": [
        "Cell di bawah makan waktu lama untuk RUN, disarankan punya processor yang kuat"
      ]
    },
    {
      "cell_type": "code",
      "execution_count": 72,
      "metadata": {
        "id": "WsyuIupC8Wn5"
      },
      "outputs": [],
      "source": [
        "# Over-sampling digabung dengan under-sampling dengan SMOTETomek\n",
        "# Kalo computing power besar, gunakan ini\n",
        "# from collections import Counter\n",
        "# from imblearn.combine import SMOTETomek\n",
        "#\n",
        "# print('Original dataset shape %s' % Counter(y))\n",
        "#\n",
        "# smt = SMOTETomek(random_state=42)\n",
        "# X_res, y_res = smt.fit_resample(X, y)\n",
        "#\n",
        "# print('Resampled dataset shape %s' % Counter(y_res))\n",
        "\n",
        "#-------------\n",
        "#Undersampling\n",
        "# from collections import Counter\n",
        "# from imblearn.under_sampling import TomekLinks\n",
        "\n",
        "# print('Original dataset shape %s' % Counter(y))\n",
        "# tl = TomekLinks()\n",
        "# X_res, y_res= tl.fit_resample(X, y)\n",
        "# print('Resampled dataset shape %s' % Counter(y_res))"
      ]
    },
    {
      "cell_type": "code",
      "execution_count": 73,
      "metadata": {
        "id": "_wrxnwF08Wn5"
      },
      "outputs": [],
      "source": [
        "#todo lakukan split dataset untuk training dan testing"
      ]
    },
    {
      "cell_type": "code",
      "execution_count": 74,
      "metadata": {
        "id": "h2NLx-r_8Wn6"
      },
      "outputs": [],
      "source": [
        "#todo gunakan model yang sesuai dengan klasifikasi"
      ]
    },
    {
      "cell_type": "code",
      "execution_count": 75,
      "metadata": {
        "id": "-4Wj2lg68Wn6"
      },
      "outputs": [],
      "source": [
        "#todo cek akurasinya dengan confusion matrix"
      ]
    },
    {
      "cell_type": "markdown",
      "metadata": {
        "collapsed": false,
        "id": "dz2DwMAb8Wn6"
      },
      "source": [
        "# DONE!"
      ]
    },
    {
      "cell_type": "code",
      "execution_count": 75,
      "metadata": {
        "id": "mXxuwSMO8Wn6"
      },
      "outputs": [],
      "source": []
    }
  ],
  "metadata": {
    "colab": {
      "collapsed_sections": [],
      "machine_shape": "hm",
      "provenance": [],
      "include_colab_link": true
    },
    "kernelspec": {
      "display_name": "Python 3",
      "language": "python",
      "name": "python3"
    },
    "language_info": {
      "codemirror_mode": {
        "name": "ipython",
        "version": 2
      },
      "file_extension": ".py",
      "mimetype": "text/x-python",
      "name": "python",
      "nbconvert_exporter": "python",
      "pygments_lexer": "ipython2",
      "version": "2.7.6"
    }
  },
  "nbformat": 4,
  "nbformat_minor": 0
}